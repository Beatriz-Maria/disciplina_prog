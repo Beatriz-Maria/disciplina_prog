{
  "nbformat": 4,
  "nbformat_minor": 0,
  "metadata": {
    "colab": {
      "name": "Lista-5.ipynb",
      "provenance": [],
      "authorship_tag": "ABX9TyMVeloqqgRLp1YZt8WpX7xl",
      "include_colab_link": true
    },
    "kernelspec": {
      "name": "python3",
      "display_name": "Python 3"
    },
    "language_info": {
      "name": "python"
    }
  },
  "cells": [
    {
      "cell_type": "markdown",
      "metadata": {
        "id": "view-in-github",
        "colab_type": "text"
      },
      "source": [
        "<a href=\"https://colab.research.google.com/github/Beatriz-Maria/disciplina_prog/blob/main/Lista_5.ipynb\" target=\"_parent\"><img src=\"https://colab.research.google.com/assets/colab-badge.svg\" alt=\"Open In Colab\"/></a>"
      ]
    },
    {
      "cell_type": "markdown",
      "metadata": {
        "id": "QBHDfmPq9249"
      },
      "source": [
        "Utilize a função range para gerar as seguintes sequências de números."
      ]
    },
    {
      "cell_type": "code",
      "metadata": {
        "id": "8HwZlT4T9oo7"
      },
      "source": [
        "for i in range (1,11):\n",
        "  print(i)"
      ],
      "execution_count": null,
      "outputs": []
    },
    {
      "cell_type": "code",
      "metadata": {
        "id": "v-M8L7FU_Agw"
      },
      "source": [
        "for i in range (10,0,-1):\n",
        "  print(i)"
      ],
      "execution_count": null,
      "outputs": []
    },
    {
      "cell_type": "code",
      "metadata": {
        "id": "ihDcZfkKA5H4"
      },
      "source": [
        "for i in range (10, 31, 5):\n",
        "  print(i)"
      ],
      "execution_count": null,
      "outputs": []
    },
    {
      "cell_type": "code",
      "metadata": {
        "id": "Pv_YYQ2-BgNa"
      },
      "source": [
        "for i in range(-20,21,8):\n",
        "  print(i)"
      ],
      "execution_count": null,
      "outputs": []
    },
    {
      "cell_type": "code",
      "metadata": {
        "id": "USEE6ql_B8fN"
      },
      "source": [
        "for i in range(10,5,-2):\n",
        "  print(i)"
      ],
      "execution_count": null,
      "outputs": []
    },
    {
      "cell_type": "code",
      "metadata": {
        "id": "KvOQsVOxCKHM"
      },
      "source": [
        "for i in range(15,-1,-3):\n",
        "  print(i)"
      ],
      "execution_count": null,
      "outputs": []
    },
    {
      "cell_type": "markdown",
      "metadata": {
        "id": "0NXC5AjWCelB"
      },
      "source": [
        "Desenvolva um programa em Python 3 utilizando os comandos for e if que calcule e escreva os\n",
        "múltiplos de 7 de 100 a 200. Utilize as funções range e list para gerar uma lista com a mesma\n",
        "sequência de números."
      ]
    },
    {
      "cell_type": "code",
      "metadata": {
        "id": "UgXyLgzICf5A"
      },
      "source": [
        "for i in range(100,201):\n",
        "  if i % 7 == 0:\n",
        "    print(i)\n",
        "    "
      ],
      "execution_count": null,
      "outputs": []
    },
    {
      "cell_type": "markdown",
      "metadata": {
        "id": "CDlER-iEIcnm"
      },
      "source": [
        "Desenvolva um programa em Python 3 utilizando o comando for que calcule e imprima na tela\n",
        "as tabuadas de 1 a 10."
      ]
    },
    {
      "cell_type": "code",
      "metadata": {
        "id": "pIBCbW8nIgpB"
      },
      "source": [
        "for x in range (0,11):\n",
        "  for y in range (0,11):\n",
        "    print('x:',x,\"y:\",y,'multiplicação', x*y)"
      ],
      "execution_count": null,
      "outputs": []
    },
    {
      "cell_type": "markdown",
      "metadata": {
        "id": "A_T-fu1kQWJf"
      },
      "source": [
        "Desenvolva um programa em Python 3 utilizando o comando for que receba um número inteiro\n",
        "positivo e informe se o número é ou não primo."
      ]
    },
    {
      "cell_type": "code",
      "metadata": {
        "id": "9U74Y-RjL-pG"
      },
      "source": [
        "x = int(input('Informe um número: '))\n",
        "e_primo = True\n",
        "\n",
        "for i in range (2,x):\n",
        "  if x % i == 0:\n",
        "    e_primo = False\n",
        "    print('É divisível por', i)\n",
        "    break #se tirar o break ele vai testar todos os divisores do range de i\n",
        "if e_primo:\n",
        "  print('É primo')\n",
        "else:\n",
        "  print('não é primo')"
      ],
      "execution_count": null,
      "outputs": []
    },
    {
      "cell_type": "markdown",
      "metadata": {
        "id": "ADaHlfXAQP9m"
      },
      "source": [
        "Explique o que faz cada uma das linhas a seguir e informe o resultado impresso na tela.\n",
        "a = 'avião'\n",
        "b = 'bola'\n",
        "c = ‘cadeira'\n",
        "L = [a, b, c]\n",
        "len(L)\n",
        "len(L[1])\n",
        "type(L)\n",
        "type(L[1])"
      ]
    },
    {
      "cell_type": "code",
      "metadata": {
        "id": "AUnMKnh2QRL7"
      },
      "source": [
        "a = 'avião'\n",
        "b = 'bola'\n",
        "c = 'cadeira'\n",
        "\n",
        "L = [a,b,c] # gera uma lista com as strings da variável a, b e c\n",
        "len(L) # da o tamanho da lista,ou seja, quantas strings há nela\n",
        "len(L[1]) #da o tamanho da string posicionada em 1 na lista L\n",
        "type(L) # diz qual o tipo da variável lista L, se é string, lógica dentre outras\n",
        "type(L[1]) # diz qual o tipo da variável da string posicionada em 1 na lista L"
      ],
      "execution_count": null,
      "outputs": []
    },
    {
      "cell_type": "markdown",
      "metadata": {
        "id": "vyJLMM-bRun1"
      },
      "source": [
        "Explique o que faz cada uma das linhas a seguir e informe o resultado impresso na tela.\n",
        "\n",
        "L = [1, 2, 3]\n",
        "\n",
        "L.append(4)\n",
        "\n",
        "print(L)\n",
        "\n",
        "L.extend((5, 6, 7))\n",
        "\n",
        "print(L)\n",
        "\n",
        "del(L[5])\n",
        "\n",
        "print(L)"
      ]
    },
    {
      "cell_type": "code",
      "metadata": {
        "id": "qwu9eYWJRz9Y"
      },
      "source": [
        "L = [1,2,3] #cria uma lista com os número 1,2 e 3\n",
        "L.append(4) #adiciona o número 4 na lista L\n",
        "print(L) #imprime a lista atualizada com 4 números\n",
        "L.extend((5,6,7)) #adiciona a lista mais três números de uma vez só, o que não é possível com append\n",
        "print(L) #imprime novamente a lista atualizada\n",
        "del(L[5]) #deleta o número da posição 5 da lista\n",
        "print(L) #imprime a lista atualizada"
      ],
      "execution_count": null,
      "outputs": []
    },
    {
      "cell_type": "markdown",
      "metadata": {
        "id": "hkuVipwCTRld"
      },
      "source": [
        "Explique o que faz cada uma das linhas a seguir e informe o resultado impresso na tela.\n",
        "\n",
        "L1 = [1, 2, 3]\n",
        "\n",
        "\n",
        "L2 = [4, 5]\n",
        "\n",
        "L3 = L1 + L2\n",
        "\n",
        "\n",
        "print(L3)"
      ]
    },
    {
      "cell_type": "code",
      "metadata": {
        "id": "w_ACkMgWTTyq"
      },
      "source": [
        "L1 = [1,2,3] #cria uma lista com os número 1,2,3\n",
        "L2 = [4,5] #cria uma segunda lista com números 4,5\n",
        "L3 = L1 + L2 #adiciona dentro da lista 1 os valores da lista 2\n",
        "print(L3)"
      ],
      "execution_count": null,
      "outputs": []
    },
    {
      "cell_type": "markdown",
      "metadata": {
        "id": "y-9tZv22UFFt"
      },
      "source": [
        "Desenvolva um programa em Python 3 que receba uma palavra e informe a quantidade de\n",
        "vogais que a palavra possui, utilizando uma variável do tipo string para armazenar as letras\n",
        "vogais (minúsculas e maiúsculas)."
      ]
    },
    {
      "cell_type": "code",
      "metadata": {
        "id": "s7voSsMKUGGt"
      },
      "source": [
        "# Solution 1:\n",
        "p = input ('Informe uma palavra')\n",
        "quantvogais = 0\n",
        "\n",
        "for letra in p:\n",
        "  if letra =='a' or letra =='e' or letra =='i' or letra =='o' or letra =='u':\n",
        "    print('As vogais são: ',letra)\n",
        "    quantvogais = quantvogais + 1\n",
        "print('A quantidade de vogais é de: ',quantvogais)"
      ],
      "execution_count": null,
      "outputs": []
    },
    {
      "cell_type": "code",
      "metadata": {
        "id": "l26X5E-Rbzya"
      },
      "source": [
        "#Solution 2:\n",
        "# utilizando os índices da lista\n",
        "p = input ('Informe uma palavra')\n",
        "quantvogais = 0\n",
        "\n",
        "for i in range (0,len(p)):\n",
        "  if p[i]=='a' or p[i]=='e' or p[i]=='i' or p[i]=='o' or p[i]=='u':\n",
        "    print(p[i])\n",
        "  quantvogais = quantvogais + 1\n",
        "print('A quantidade de vogais é de: ',quantvogais)"
      ],
      "execution_count": null,
      "outputs": []
    },
    {
      "cell_type": "code",
      "metadata": {
        "id": "27Ef7vZjci3G"
      },
      "source": [
        "#Solution 3:\n",
        "# utilizando uma lista de vogais para ser comparada com a palavra do input\n",
        "p = input('Informe uma palavra')\n",
        "vogais = ['a','e','i','o','u','A','E','I','O','U']\n",
        "quantvogais = 0\n",
        "\n",
        "for letra in p: \n",
        "  for i in vogais:\n",
        "    if letra == i:\n",
        "      print('As vogais são: ',i)  \n",
        "      quantvogais = quantvogais + 1\n",
        "      break # vai interromper a buscar por vogais desnecessárias como o==o depois o==u\n",
        "print('A quantidade de vogais é de: ',quantvogais)"
      ],
      "execution_count": null,
      "outputs": []
    },
    {
      "cell_type": "code",
      "metadata": {
        "id": "ea6wwqLdftJa"
      },
      "source": [
        "#Solution 4\n",
        "\n",
        "p = input('Informe uma palavra')\n",
        "vogais = 'aeiouAEIOU'\n",
        "quantvogais = 0\n",
        "\n",
        "for letra in p:\n",
        "  for vogal in vogais:\n",
        "    if letra == vogal:\n",
        "      print('As vogais são: ', vogal)\n",
        "      quantvogais = quantvogais + 1\n",
        "print('A quantidade de vogais é de: ', quantvogais)"
      ],
      "execution_count": null,
      "outputs": []
    }
  ]
}