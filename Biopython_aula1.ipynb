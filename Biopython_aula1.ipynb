{
  "nbformat": 4,
  "nbformat_minor": 0,
  "metadata": {
    "colab": {
      "name": "Biopython_aula1.ipynb",
      "provenance": [],
      "collapsed_sections": [],
      "include_colab_link": true
    },
    "kernelspec": {
      "name": "python3",
      "display_name": "Python 3"
    },
    "language_info": {
      "name": "python"
    }
  },
  "cells": [
    {
      "cell_type": "markdown",
      "metadata": {
        "id": "view-in-github",
        "colab_type": "text"
      },
      "source": [
        "<a href=\"https://colab.research.google.com/github/Beatriz-Maria/disciplina_prog/blob/main/Biopython_aula1.ipynb\" target=\"_parent\"><img src=\"https://colab.research.google.com/assets/colab-badge.svg\" alt=\"Open In Colab\"/></a>"
      ]
    },
    {
      "cell_type": "markdown",
      "source": [
        "## **Aula 1**\n",
        "Aula sobre a utilização do Google Colab e do pacote Biopython. Essa aula tem informações básicas sobre o pacote e seu funcionamento.\n",
        "\n",
        "O site do pacote é: https://biopython.org\n",
        "\n",
        "O tutorial para utilização é: http://biopython.org/DIST/docs/tutorial/Tutorial.pdf"
      ],
      "metadata": {
        "id": "NZv83q7MynQR"
      }
    },
    {
      "cell_type": "markdown",
      "source": [
        "# **No começo era tudo uma grande massa sem vida**\n",
        "\n",
        "Inicializar o computador do Google.\n",
        "\n",
        "Instalação do pacote Biopython.\n",
        "\n",
        "Importar a biblioteca Biopython e o objeto ***Seq*** da biblioteca.\n",
        "\n",
        "Verificar a versão da biblioteca.\n",
        "\n",
        "Exemplo de utilização do objeto ***Seq***"
      ],
      "metadata": {
        "id": "fPgkhc2cyJ3i"
      }
    },
    {
      "cell_type": "code",
      "source": [
        "!pip3 install biopython #Instalação do pacote\n",
        "import Bio # Importação da biblioteca\n",
        "from Bio.Seq import Seq # Importação do objeto Seq\n",
        "print(\"Version: \", Bio.__version__)\n",
        "my_seq = Seq(\"AGTACACTGGT\")"
      ],
      "metadata": {
        "id": "RxMGXDNY7J7x",
        "colab": {
          "base_uri": "https://localhost:8080/"
        },
        "outputId": "57ea7829-cb9f-4203-a4e4-e3c298cdf660"
      },
      "execution_count": 1,
      "outputs": [
        {
          "output_type": "stream",
          "name": "stdout",
          "text": [
            "Looking in indexes: https://pypi.org/simple, https://us-python.pkg.dev/colab-wheels/public/simple/\n",
            "Collecting biopython\n",
            "  Downloading biopython-1.79-cp37-cp37m-manylinux_2_5_x86_64.manylinux1_x86_64.whl (2.3 MB)\n",
            "\u001b[K     |████████████████████████████████| 2.3 MB 4.3 MB/s \n",
            "\u001b[?25hRequirement already satisfied: numpy in /usr/local/lib/python3.7/dist-packages (from biopython) (1.21.6)\n",
            "Installing collected packages: biopython\n",
            "Successfully installed biopython-1.79\n",
            "Version:  1.79\n"
          ]
        }
      ]
    },
    {
      "cell_type": "markdown",
      "source": [
        "# **Operações com o objeto *Seq*.**"
      ],
      "metadata": {
        "id": "qjIK4ciMG6Nn"
      }
    },
    {
      "cell_type": "markdown",
      "source": [
        "### **Manipulação de sequência**"
      ],
      "metadata": {
        "id": "_FRIb5x9JHyb"
      }
    },
    {
      "cell_type": "code",
      "source": [
        "print(\"Seq: \", my_seq)"
      ],
      "metadata": {
        "colab": {
          "base_uri": "https://localhost:8080/"
        },
        "id": "fL6GGa25rzgw",
        "outputId": "ed0496b0-2452-445f-dd04-e2941f50699e"
      },
      "execution_count": 2,
      "outputs": [
        {
          "output_type": "stream",
          "name": "stdout",
          "text": [
            "Seq:  AGTACACTGGT\n"
          ]
        }
      ]
    },
    {
      "cell_type": "code",
      "execution_count": 3,
      "metadata": {
        "id": "CD-EqAALwdU-",
        "colab": {
          "base_uri": "https://localhost:8080/"
        },
        "outputId": "ba1cf5ca-6bc5-4297-ab3b-89cedccbd036"
      },
      "outputs": [
        {
          "output_type": "stream",
          "name": "stdout",
          "text": [
            "Seq:  AGTACACTGGT\n",
            "C\n",
            "TACAC\n",
            "GGT\n",
            "Seq reverse:  TGGTCACATGA\n",
            "Seq Complement:  TCATGTGACCA\n",
            "Reverse Seq Complement: ACCAGTGTACT\n",
            "Count A:  3\n"
          ]
        }
      ],
      "source": [
        "print(\"Seq: \", my_seq)\n",
        "print(my_seq[4])\n",
        "print(my_seq[2:7])\n",
        "print(my_seq[8:])\n",
        "print(\"Seq reverse: \", my_seq[::-1])\n",
        "print(\"Seq Complement: \", my_seq.complement())\n",
        "print(\"Reverse Seq Complement:\", my_seq.reverse_complement())\n",
        "print(\"Count A: \", my_seq.count(\"A\"))\n"
      ]
    },
    {
      "cell_type": "markdown",
      "source": [
        "### **Probabilidades e Possibilidades**\n",
        "\n"
      ],
      "metadata": {
        "id": "XI9ZmJjRI_Do"
      }
    },
    {
      "cell_type": "code",
      "source": [
        "print(\"Seq: \", my_seq)\n",
        "print(\"Seq lenght: \", len(my_seq))\n",
        "seq_size = len(my_seq)\n",
        "print(\"Count A:\", my_seq.count(\"A\"), \"-- Probability: \", my_seq.count(\"A\")/seq_size)\n",
        "print(\"Count C:\", my_seq.count(\"C\"), \"-- Probability: \", my_seq.count(\"C\")/seq_size)\n",
        "print(\"Count T:\", my_seq.count(\"T\"), \"-- Probability: \", my_seq.count(\"T\")/seq_size)\n",
        "\n",
        "print(\"\\nExemplo de formatação da saída do texto:\")\n",
        "print(\"Count G:%2d -- Probability: %5.2f\" % (my_seq.count(\"G\"), my_seq.count(\"G\")/seq_size))"
      ],
      "metadata": {
        "id": "coTQOwd5Hefv"
      },
      "execution_count": null,
      "outputs": []
    },
    {
      "cell_type": "code",
      "source": [
        "print(\"Seq: \", my_seq)\n",
        "my_seq_list = ['A','C','T','G']\n",
        "print(\"--------------------------------------------------\")\n",
        "print(\"Exemplo utilizando a lista my_seq_list\")\n",
        "for base in my_seq_list:\n",
        "  print(\"%s -- Probability: %5.2f \" % (base, my_seq.count(base)/seq_size))\n",
        "print(\"--------------------------------------------------\")\n",
        "my_seq_list2 = [\"AA\", \"AC\", \"AT\", \"AG\", \"CA\", \"CC\", \"CT\", \"CG\", \"TA\", \"TC\",\n",
        "                \"TT\", \"TG\", \"GA\", \"GC\", \"GT\", \"GG\"]\n",
        "print(\"Exemplo utilizando a lista my_seq_list2\")\n",
        "for base in my_seq_list2:\n",
        "  print(\"%s -- Probability: %5.2f \" % (base, my_seq.count(base)/(seq_size-1)))\n",
        "print(\"--------------------------------------------------\")\n",
        "print(\"Exemplo utilizando a lista my_seq_list com dois laços para fazer a lista my_seq_list2\")\n",
        "for base in my_seq_list:\n",
        "  for base2 in my_seq_list:\n",
        "    print(\"%s -- Probability: %5.2f \" % (base+base2, my_seq.count(base+base2)/(seq_size-1)))"
      ],
      "metadata": {
        "id": "098krOiGTjQe"
      },
      "execution_count": null,
      "outputs": []
    },
    {
      "cell_type": "code",
      "source": [
        "print(\"--------------------------------------------------\")\n",
        "temp = []\n",
        "my_seq_list2 = my_seq_list\n",
        "print(\"Exemplo utilizando a lista my_seq_list com dois laços para fazer uma lista com 5 pb\")\n",
        "for x in range(5):\n",
        "  for base in my_seq_list2:\n",
        "     temp.append(base+'A')\n",
        "     temp.append(base+'C')\n",
        "     temp.append(base+'T')\n",
        "     temp.append(base+'G')\n",
        "  print(\"Size: \", len(temp))\n",
        "  print(temp)\n",
        "  my_seq_list2 = temp\n",
        "  temp = []"
      ],
      "metadata": {
        "id": "FvSmd85v5V0R"
      },
      "execution_count": null,
      "outputs": []
    },
    {
      "cell_type": "markdown",
      "source": [
        "# **Trabalhando com Arquivos**\n",
        "Fazer Download do genoma *H. influenzae*\n"
      ],
      "metadata": {
        "id": "Qw5HCedxKQcm"
      }
    },
    {
      "cell_type": "code",
      "source": [
        "# Aqui foi feito o download diretamente do site NCBI utilizando o endereço do genoma\n",
        "!wget https://ftp.ncbi.nlm.nih.gov/genomes/all/GCF/000/931/575/GCF_000931575.1_ASM93157v1/GCF_000931575.1_ASM93157v1_genomic.fna.gz\n",
        "\n",
        "# O arquivo foi armazenado no diretório /content da máquina virtual e descompactado com o gunzip.\n",
        "!gunzip GCF_000931575.1_ASM93157v1_genomic.fna.gz\n",
        "\n",
        "#Troca de nome do arquivo.\n",
        "!cp /content/GCF_000931575.1_ASM93157v1_genomic.fna /content/GCF_000931575.1_ASM93157v1_genomic.fasta"
      ],
      "metadata": {
        "id": "wU60orERV7di"
      },
      "execution_count": null,
      "outputs": []
    },
    {
      "cell_type": "code",
      "source": [
        "!cp /content/GCF_000931575.1_ASM93157v1_genomic.fna /content/GCF_000931575.1_ASM93157v1_genomic.fa\n",
        "!wget https://raw.githubusercontent.com/biopython/biopython/master/Doc/examples/ls_orchid.fasta"
      ],
      "metadata": {
        "id": "vrHfQQyG_iIk"
      },
      "execution_count": null,
      "outputs": []
    },
    {
      "cell_type": "markdown",
      "source": [
        "# **Montar gráfico de GCs**\n",
        "Executar com a ordenação das probabilidades de GC's e sem a ordenação"
      ],
      "metadata": {
        "id": "W2QwLq5INgof"
      }
    },
    {
      "cell_type": "code",
      "source": [
        "import pylab\n",
        "from Bio import SeqIO\n",
        "from Bio.SeqUtils import GC\n",
        "# Mostrar como fazer um gráfico utilizando o arquivo ls_orchid.fasta que possui 94 genomas de orquídeas\n",
        "gc_values = sorted(GC(rec.seq) for rec in SeqIO.parse(\"/content/ls_orchid.fasta\", \"fasta\"))\n",
        "print(gc_values)\n",
        "import pylab\n",
        "\n",
        "pylab.plot(gc_values)\n",
        "pylab.title(\n",
        "    \"%i orchid sequences\\nGC%% %0.1f to %0.1f\"\n",
        "    % (len(gc_values), min(gc_values), max(gc_values))\n",
        ")\n",
        "pylab.xlabel(\"Genes\")\n",
        "pylab.ylabel(\"GC%\")\n",
        "pylab.show()\n"
      ],
      "metadata": {
        "id": "oxvUMQjggu-c"
      },
      "execution_count": null,
      "outputs": []
    },
    {
      "cell_type": "code",
      "source": [
        "# Uma maneira de trabalhar com arquivos grandes é utilizar um handle.\n",
        "# Neste caso ele aponta para um arquivo do tipo fasta e é manipulado dentro \n",
        "# de um laço for. Os dados do arquivo são copiados para um tipo record\n",
        "#  \n",
        "handle = open(\"/content/GCF_000931575.1_ASM93157v1_genomic.fasta\", \"r\")\n",
        "for record in SeqIO.parse(handle, \"fasta\"):\n",
        "    print(record.name, len(record))\n",
        "handle.close()\n",
        "\n",
        "# Caso precise/queira trabalhar com os dados compactados utilize esse código\n",
        "\n",
        "#handle = gzip.open(\"/content/GCF_000931575.1_ASM93157v1_genomic.fna.gz\", \"rt\")\n",
        "#for record in SeqIO.parse(handle, \"fasta\"):\n",
        "#    print(record.id, len(record.seq))\n",
        "#    print(record.format)\n",
        "#handle.close()\n",
        "seq_size = len(record.seq)\n",
        "\n",
        "\n",
        "for base in my_seq_list:\n",
        "  print(\"%s -- Total: %s -- Probability: %5.4f \" % (base, record.seq.count(base), record.seq.count(base)/seq_size))\n",
        "\n",
        "print(\"GC content: -- \", (record.seq.count(\"C\")/seq_size+record.seq.count(\"G\")/seq_size))\n",
        "print(\"Count seq 'GTCA' : -- \", record.seq.count(\"GTCA\"))\n",
        "\n",
        "a = 10\n",
        "#a = int(len(record.seq)/20000)\n",
        "gc_values = []\n",
        "init = 0\n",
        "print(\"# bp: \", a)\n",
        "for i in range(a):\n",
        "  end = (i+1)*int(len(record.seq)/a)\n",
        "  gc_values.append(GC(record.seq[init:end]))\n",
        "  init = end + 1\n",
        "\n",
        "print(\"gc values :\", gc_values)\n",
        "\n",
        "\n",
        "# Aqui podemos gerar um gráfico com os valores ordenados ou não\n",
        "pylab.plot(sorted(gc_values))\n",
        "#pylab.plot(gc_values)\n",
        "pylab.title(\n",
        "    \"%i Genome sequences\\nGC%% %0.1f to %0.1f\"\n",
        "    % (len(gc_values), min(gc_values), max(gc_values))\n",
        ")\n",
        "pylab.xlabel(\"Genes\")\n",
        "pylab.ylabel(\"GC%\")\n",
        "pylab.show()"
      ],
      "metadata": {
        "id": "lgOez2hOKX2N"
      },
      "execution_count": null,
      "outputs": []
    },
    {
      "cell_type": "code",
      "source": [
        "\n",
        "#a = 100\n",
        "a = int(len(record.seq)/20000)\n",
        "gc_values = []\n",
        "at_values = []\n",
        "init = 0\n",
        "print(\"# bp: \", a)\n",
        "for i in range(a):\n",
        "  end = (i+1)*int(len(record.seq)/a)\n",
        "  gc_values.append(GC(record.seq[init:end]))\n",
        "  at_values.append(1.0-(GC(record.seq[init:end])))\n",
        "  init = end + 1\n",
        "\n",
        "pylab.plot(gc_values)\n",
        "pylab.plot(at_values)\n",
        "pylab.title(\n",
        "    \"%i Genome sequences\\nGC and AT%% %0.1f to %0.1f\"\n",
        "    % (len(gc_values), min(gc_values), max(gc_values))\n",
        ")\n",
        "pylab.xlabel(\"Genes\")\n",
        "pylab.ylabel(\"GC%\")\n",
        "pylab.show()"
      ],
      "metadata": {
        "collapsed": true,
        "id": "mAfogbwOPxOg"
      },
      "execution_count": null,
      "outputs": []
    }
  ]
}