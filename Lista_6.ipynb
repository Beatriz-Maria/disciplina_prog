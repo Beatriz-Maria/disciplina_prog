{
  "nbformat": 4,
  "nbformat_minor": 0,
  "metadata": {
    "colab": {
      "name": "Lista-6.ipynb",
      "provenance": [],
      "mount_file_id": "1PXgOG_DZ2pf17jc5FxA8HWqt-Qj5Zypf",
      "authorship_tag": "ABX9TyNMjF3gZ+Gev1bjshTTPkpN"
    },
    "kernelspec": {
      "name": "python3",
      "display_name": "Python 3"
    },
    "language_info": {
      "name": "python"
    }
  },
  "cells": [
    {
      "cell_type": "markdown",
      "metadata": {
        "id": "ydhmxOORq88E"
      },
      "source": [
        "Desenvolva um programa em Python 3 que receba palavras até que o usuário digite o número\n",
        "0 (zero) e produza e informe duas listas: uma contendo as palavras informadas e outra contendo\n",
        "as respectivas quantidades de vogais.\n",
        "\n",
        "Exemplo:\n",
        "\n",
        "Informe palavras e 0 para terminar: Uma\n",
        "\n",
        "Informe palavras e 0 para terminar: lista\n",
        "\n",
        "Informe palavras e 0 para terminar: de\n",
        "\n",
        "Informe palavras e 0 para terminar: 5\n",
        "\n",
        "Informe palavras e 0 para terminar: palavras\n",
        "\n",
        "Informe palavras e 0 para terminar: 0\n",
        "\n",
        "Palavras: ['Uma', 'lista', 'de', '5', 'palavras']\n",
        "\n",
        "Quantidades de vogais: [2, 2, 1, 0, 3]"
      ]
    },
    {
      "cell_type": "code",
      "metadata": {
        "id": "DCydtgUIsvRP"
      },
      "source": [
        "palavras = []\n",
        "p = input('Digite palavras: ')\n",
        "\n",
        "while p !='0':\n",
        "  palavras.append(p)\n",
        "  p = input('Informe mais uma palavra e 0 para terminar: ')\n",
        "print('Sua lista de palavras é: ',palavras)\n",
        "\n",
        "quantvogais = []\n",
        "vogais='aeiouAEIOU'\n",
        "\n",
        "for palavra in palavras:\n",
        "  q = 0\n",
        "  for letra in palavra:\n",
        "    for vogal in vogais:\n",
        "      if letra == vogal:\n",
        "        q = q + 1\n",
        "        print(q,'---->',palavra,'---->',vogal)\n",
        "        break\n",
        "        \n",
        "  quantvogais.append(q)\n",
        "print('A quantidade de vogais é de: ',quantvogais)"
      ],
      "execution_count": null,
      "outputs": []
    },
    {
      "cell_type": "markdown",
      "metadata": {
        "id": "w9ax8Y78HyJP"
      },
      "source": [
        "Desenvolva um programa em Python 3 que receba uma string representando uma sequência\n",
        "de DNA no alfabeto ACGT e calcule e escreva duas listas no formato [A, C, G, T]: uma com as\n",
        "frequências absolutas e outra com as frequências relativas de cada base na sequência fornecida.\n",
        "\n",
        "Qualquer símbolo diferente de A, C, G e T deve ser ignorado e o programa deve informar isso.\n",
        "\n",
        "*Exemplo 1:*\n",
        "\n",
        "Informe a sequência de DNA: TATAATGCGGCCGTAAATAT\n",
        "\n",
        "Frequências absolutas [A, C, G, T]: [7, 3, 4, 6]\n",
        "\n",
        "Frequências relativas [A, C, G, T]: [0.35, 0.15, 0.2, 0.3]\n",
        "\n",
        "\n",
        "*Exemplo 2:*\n",
        "\n",
        "Informe a sequência de DNA: TAaTAATGCGG%CCGXTAAATAT\n",
        "\n",
        "Ignorando base desconhecida: a\n",
        "\n",
        "Ignorando base desconhecida: %\n",
        "\n",
        "Ignorando base desconhecida: X\n",
        "\n",
        "Frequências absolutas [A, C, G, T]: [7, 3, 4, 6]\n",
        "\n",
        "Frequências relativas [A, C, G, T]: [0.35, 0.15, 0.2, 0.3]"
      ]
    },
    {
      "cell_type": "code",
      "metadata": {
        "id": "HDxB8ggbH537"
      },
      "source": [
        "nucleotideos = ['ATCG']\n",
        "\n",
        "seq = input ('Informe uma sequência de DNA: ')\n",
        "for base in seq:\n",
        "  for nucleotideo in nucleotideos:\n",
        "    if nucleotideo != base:\n",
        "      print('Ignorando base desconhecida',seq)\n",
        "print('sua seq é,',seq)\n"
      ],
      "execution_count": null,
      "outputs": []
    },
    {
      "cell_type": "code",
      "metadata": {
        "id": "azdzLC9aOLht"
      },
      "source": [
        "freq_absoluta = [0,0,0,0]\n",
        "freq_relativa = [0,0,0,0]\n",
        "b = 0\n",
        "\n",
        "seq = input ('Informe uma sequência de DNA: ')\n",
        "for base in seq:\n",
        "  for base in seq:\n",
        "    if base == 'A':\n",
        "      freqbases[0] = freqbases[0] + 1\n",
        "      b = b + 1\n",
        "    elif base == 'C':\n",
        "      freqbases[1] = freqbases[1] + 1\n",
        "      b = b + 1\n",
        "    elif base == 'T':  \n",
        "      freqbases[2] = freqbases[2] + 1\n",
        "      b = b + 1\n",
        "    elif base == 'G': \n",
        "      freqbases[3] = freqbases[3] + 1\n",
        "      b = b + 1\n",
        "    else:\n",
        "      print('Ignorando base desconhecida', seq)\n",
        "\n",
        "print(freqbases)"
      ],
      "execution_count": null,
      "outputs": []
    },
    {
      "cell_type": "markdown",
      "metadata": {
        "id": "owSyPzvm6uns"
      },
      "source": [
        "Desenvolva um programa em Python 3 que receba duas strings de mesmo comprimento\n",
        "representando duas sequência e calcule e escreva: o comprimento das sequências, a quantidade\n",
        "de elementos coincidentes e o percentual de coincidência. Se as sequências não tiverem o\n",
        "mesmo comprimento, o programa deve informar e não realizar nenhum processamento.\n",
        "\n",
        "*Exemplo 1:*\n",
        "\n",
        "Informe a primeira sequência: GCGTCGTAATATCGGCTAAT\n",
        "\n",
        "Informe a segunda sequência : GCGTGCTAATATCCGCTTAT\n",
        "\n",
        "Comprimento das sequências: 20\n",
        "\n",
        "Quantidade de elementos coincidentes: 16\n",
        "\n",
        "Equivalente a 80.0 %\n",
        "\n",
        "*Exemplo 2:*\n",
        "\n",
        "Informe a primeira sequência: CGTATCAA\n",
        "\n",
        "Informe a segunda sequência : CGTATCA\n",
        "\n",
        "As sequências devem ter o mesmo comprimento."
      ]
    },
    {
      "cell_type": "code",
      "metadata": {
        "id": "wUW1_auc61_K"
      },
      "source": [
        "seq_1 = input('Informe uma sequência: ')\n",
        "seq_2 = input('Informe outra sequência: ')\n",
        "bases_iguais = 0\n",
        "\n",
        "if len(seq_1) == len(seq_2):\n",
        "  for i in range(len(seq_1)):\n",
        "    if seq_1[i] == seq_2[i]:\n",
        "      bases_iguais = bases_iguais + 1\n",
        "  print('Comprimento das sequências: ',len(seq_1))\n",
        "  print('A quantidade de elementos coincidentes é de: ',bases_iguais)\n",
        "  print('A porcentagem de bases equivalentes é de: ',bases_iguais/len(seq_1)*100,'%')\n",
        "else:\n",
        "  print('A sequências devem ter o mesmo comprimento')\n",
        "      \n",
        "\n",
        "\n",
        "\n",
        " "
      ],
      "execution_count": null,
      "outputs": []
    },
    {
      "cell_type": "markdown",
      "metadata": {
        "id": "SmA8SXubj3tO"
      },
      "source": [
        "Desenvolva um programa em Python 3 que compare duas listas de números inteiros e informe\n",
        "a quantidade de números iguais na mesma posição. O programa deve começar perguntando a\n",
        "quantidade de elementos, que será a mesma para as duas listas. Em seguida, deve solicitar\n",
        "separadamente cada elemento de cada uma das listas. Depois de armazenadas as duas listas, o\n",
        "programa deve compará-las e produzir o resultado.\n",
        "\n",
        "*Exemplo:*\n",
        "\n",
        "Informe a quantidade de elementos: 5\n",
        "\n",
        "Informe os elementos da primeira lista\n",
        "\n",
        "Índice 0: 1\n",
        "\n",
        "Índice 1: 2\n",
        "\n",
        "Índice 2: 3\n",
        "\n",
        "Índice 3: 4\n",
        "\n",
        "Índice 4: 5\n",
        "\n",
        "Informe os elementos da segunda lista\n",
        "\n",
        "Índice 0: 0\n",
        "\n",
        "Índice 1: 2\n",
        "\n",
        "Índice 2: 9\n",
        "\n",
        "Índice 3: 8\n",
        "\n",
        "Índice 4: 5\n",
        "\n",
        "Quantidade de números iguais na mesma posição: 2"
      ]
    },
    {
      "cell_type": "code",
      "metadata": {
        "id": "OX4zVhRpTitf"
      },
      "source": [
        "n = int(input('Informe o número de elementos da sua lista: '))\n",
        "\n",
        "print('Informe os elementos da primeira lista')\n",
        "L1 = []\n",
        "for i in range(n):\n",
        "  x = int(input('índice' + str(i) + ': '))\n",
        "  L1.append(x)\n",
        "\n",
        "print('Informe os elementos da segunda lista')\n",
        "L2 = []\n",
        "for i in range(n):\n",
        "  x = int(input('índice' + str(i) + ' :'))\n",
        "  L2.append(x)\n",
        "\n",
        "indices_iguais = 0\n",
        "for i in range(n):\n",
        "  if L1[i] == L2[i]:\n",
        "    indices_iguais = indices_iguais + 1\n",
        "\n",
        "print('A quantidade de indices iguais é de: ',indices_iguais)"
      ],
      "execution_count": null,
      "outputs": []
    },
    {
      "cell_type": "markdown",
      "metadata": {
        "id": "YRnhE_6tbCex"
      },
      "source": [
        "Desenvolva um programa em Python 3 que, considerando uma lista de números inteiros\n",
        "armazenada na memória (não informada pelo usuário), faça uma pesquisa por um número\n",
        "informado pelo usuário e informe se o número está ou não na lista."
      ]
    },
    {
      "cell_type": "code",
      "metadata": {
        "id": "VtnRSScWbSm2"
      },
      "source": [
        "L = [1,4,8,12,16]\n",
        "\n",
        "n = int(input('Informe um número: '))\n",
        "for i in L:\n",
        "  if i == n:\n",
        "    print('O número está na lista')\n",
        "    break\n",
        "  else:\n",
        "    print('O número não está na lista')"
      ],
      "execution_count": null,
      "outputs": []
    },
    {
      "cell_type": "markdown",
      "metadata": {
        "id": "xUZr_pvEdaxI"
      },
      "source": [
        "Desenvolva um programa em Python 3 que, considerando uma lista de números inteiros\n",
        "armazenada na memória (não informada pelo usuário), faça uma pesquisa por um número\n",
        "informado pelo usuário e informe se o número está ou não na lista e, se estiver, quantas vezes\n",
        "ocorre."
      ]
    },
    {
      "cell_type": "code",
      "metadata": {
        "id": "xKV4mP_CdhIK"
      },
      "source": [
        "L = [1,4,8,12,16]\n",
        "\n",
        "n = int(input('Informe um número: '))\n",
        "for i in L:\n",
        "  igual = 0\n",
        "  if i == n:\n",
        "    print('O número está na lista')\n",
        "    igual = igual + 1\n",
        "    print('A quantidade de números iguais aos da lista é: ',igual)\n",
        "\n",
        "  else:\n",
        "    print('O número não está na lista')"
      ],
      "execution_count": null,
      "outputs": []
    }
  ]
}