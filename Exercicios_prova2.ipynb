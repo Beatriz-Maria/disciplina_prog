{
  "nbformat": 4,
  "nbformat_minor": 0,
  "metadata": {
    "colab": {
      "name": "Exercicios-prova2.ipynb",
      "provenance": [],
      "mount_file_id": "1z7bMzI66W9ipDMy-nkkvFltEno3XsVNd",
      "authorship_tag": "ABX9TyNCNBtO7gWJgMRnW3kwaBMV",
      "include_colab_link": true
    },
    "kernelspec": {
      "name": "python3",
      "display_name": "Python 3"
    },
    "language_info": {
      "name": "python"
    }
  },
  "cells": [
    {
      "cell_type": "markdown",
      "metadata": {
        "id": "view-in-github",
        "colab_type": "text"
      },
      "source": [
        "<a href=\"https://colab.research.google.com/github/Beatriz-Maria/disciplina_prog/blob/main/Exercicios_prova2.ipynb\" target=\"_parent\"><img src=\"https://colab.research.google.com/assets/colab-badge.svg\" alt=\"Open In Colab\"/></a>"
      ]
    },
    {
      "cell_type": "markdown",
      "metadata": {
        "id": "cNj-drpMwSaI"
      },
      "source": [
        "Desenvolva um programa que receba números inteiros positivos informados pelo usuário e\n",
        "produza e imprima na tela duas listas: uma com os números pares e outra com os números\n",
        "ímpares informados pelo usuário. Quando o usuário digitar 0 (zero), o programa deve parar de\n",
        "solicitar número (o número zero não deve ser incluído em nenhuma lista).\n",
        "\n",
        "*Exemplo:*\n",
        "\n",
        "Informe números inteiros positivos ou 0 (zero) para encerrar:\n",
        "\n",
        "4\n",
        "\n",
        "7\n",
        "\n",
        "3\n",
        "\n",
        "6\n",
        "\n",
        "5\n",
        "\n",
        "0\n",
        "\n",
        "Lista de números pares: [4, 6]\n",
        "\n",
        "Lista de números ímpares: [7, 3, 5]"
      ]
    },
    {
      "cell_type": "code",
      "metadata": {
        "colab": {
          "base_uri": "https://localhost:8080/"
        },
        "id": "DCp3kxNoqPeV",
        "outputId": "1f9a3236-1091-4aaf-e5da-8586a0a836ad"
      },
      "source": [
        "def e_par(x):\n",
        "  if x % 2 == 0:\n",
        "    return True\n",
        "  else:\n",
        "    return False\n",
        "\n",
        "Ln = []\n",
        "n = int(input('Informe um número :'))\n",
        "Ln.append(n)\n",
        "#print('A lista com os números informados é: ',Ln)\n",
        "while n != 0:\n",
        "  n = int(input('Informe mais um número ou 0 para terminar: '))\n",
        "  Ln.append(n)\n",
        "  #print('A lista com os números informados é: ',Ln)\n",
        "  \n",
        "Lp = []\n",
        "Li = []\n",
        "for numero in Ln:\n",
        "  if e_par(numero):\n",
        "    Lp.append(numero)\n",
        "  else:\n",
        "    Li.append(numero)\n",
        "    #print('A lista dos números ímpares é: ',Li)\n",
        "      \n",
        "del Lp[-1]\n",
        "print('A lista dos números pares é: ',Lp)\n",
        "print('A lista dos números ímpares é: ',Li)\n",
        "\n"
      ],
      "execution_count": null,
      "outputs": [
        {
          "output_type": "stream",
          "text": [
            "Informe um número :1\n",
            "Informe mais um número ou 0 para terminar: 2\n",
            "Informe mais um número ou 0 para terminar: 3\n",
            "Informe mais um número ou 0 para terminar: 4\n",
            "Informe mais um número ou 0 para terminar: 5\n",
            "Informe mais um número ou 0 para terminar: 0\n",
            "A lista dos números pares é:  [2, 4]\n",
            "A lista dos números ímpares é:  [1, 3, 5]\n"
          ],
          "name": "stdout"
        }
      ]
    },
    {
      "cell_type": "markdown",
      "metadata": {
        "id": "v-vB8LmUw5b7"
      },
      "source": [
        "Desenvolva um programa para calcular a conta de um cliente em um estabelecimento\n",
        "comercial. O programa deve trabalhar com duas listas: uma contendo números reais\n",
        "representando os valores em R$ de todos os produtos disponíveis no estabelecimento e outra\n",
        "contendo números inteiros representando os códigos dos produtos consumidos pelo cliente.\n",
        "Cada código na lista de produtos consumidos corresponde ao índice do produto na lista de\n",
        "preços, começando com o índice/código 0 (zero) que deve ser ignorado. O programa deve\n",
        "calcular e escrever na tela o total da conta, ignorando códigos inválidos.\n",
        "\n",
        "*Exemplo:*\n",
        "\n",
        "Considerando a seguinte tabela de preços:\n",
        "\n",
        "Código Valor\n",
        "\n",
        "1 R$ 2,50\n",
        "\n",
        "2 R$ 5,00\n",
        "\n",
        "3 R$ 7,50\n",
        "\n",
        "4 R$ 9,00\n",
        "\n",
        "Representada no programa pela seguinte lista de preços:\n",
        "[0.0, 2.5, 5.0, 7.5, 9.0]\n",
        "\n",
        "E a seguinte lista de códigos de produtos consumidos:\n",
        "[1, 2, -1, 0, 5, 1, 4]\n",
        "\n",
        "O programa deve escrever na tela:\n",
        "Total: R$ 19.0\n",
        "\n",
        "O valor total foi calculado pela soma: 2,50 + 5,00 + 2,50 + 9,00\n",
        "tendo sido ignorados os códigos inválidos: -1, 0 e 5"
      ]
    },
    {
      "cell_type": "code",
      "metadata": {
        "colab": {
          "base_uri": "https://localhost:8080/"
        },
        "id": "4qMY_cAsxAE8",
        "outputId": "619e15aa-e21d-4fc2-95f6-00fe51e70277"
      },
      "source": [
        "LP = [0.0, 2.5, 5.0, 7.5, 9.0]\n",
        "LC = [1, 2, -1, 0, 5, 1, 4]\n",
        "preco_total = 0.0\n",
        "\n",
        "\n",
        "for i in LC:\n",
        "  if i > 0 and i < len(LP):\n",
        "    preco_total = preco_total + LP[i]\n",
        "print('Total: R$',preco_total)\n",
        "  "
      ],
      "execution_count": null,
      "outputs": [
        {
          "output_type": "stream",
          "text": [
            "Total: R$ 19.0\n"
          ],
          "name": "stdout"
        }
      ]
    },
    {
      "cell_type": "markdown",
      "metadata": {
        "id": "zJpjF_ShIWyu"
      },
      "source": [
        "Desenvolva uma função que receba duas listas de números inteiros e retorne uma terceira lista\n",
        "contendo os números que ocorrem em ambas as listas de entrada na mesma posição (índice).\n",
        "Nas posições em que os números não forem iguais, a função deve colocar o valor 0 (zero).\n",
        "Depois, desenvolva um programa que, a partir de duas listas armazenadas na memória, utilize a\n",
        "função e imprima na tela a lista produzida por ela.\n",
        "\n",
        "*Exemplo:*\n",
        "\n",
        "Considerando as seguintes listas:\n",
        "[1, 4, 7, 5, 9]\n",
        "[3, 5, 7, 2, 9]\n",
        "\n",
        "O programa deve imprimir na tela:\n",
        "[0, 0, 7, 0, 9]"
      ]
    },
    {
      "cell_type": "code",
      "metadata": {
        "colab": {
          "base_uri": "https://localhost:8080/"
        },
        "id": "_DaYY7vdIhd-",
        "outputId": "13bebcd5-14da-4c40-8ffe-372cfb854ad7"
      },
      "source": [
        "def funcao(L1,L2):\n",
        "  L3=[]\n",
        "  for i in range(len(L1)):\n",
        "    if L1[i] == L2[i]:  \n",
        "      L3.append(L1[i])\n",
        "    else:\n",
        "      L3.append(0)\n",
        "  return L3\n",
        "\n",
        "lista_1 = [1, 4, 7, 5, 9]\n",
        "lista_2 = [3, 5, 7, 2, 9]\n",
        "print(funcao(lista_1,lista_2))\n"
      ],
      "execution_count": null,
      "outputs": [
        {
          "output_type": "stream",
          "text": [
            "[0, 0, 7, 0, 9]\n"
          ],
          "name": "stdout"
        }
      ]
    },
    {
      "cell_type": "markdown",
      "metadata": {
        "id": "ACMwOxA1rQMW"
      },
      "source": [
        "Desenvolva um programa em Python 3 que leia um arquivo contendo frases escritas com letras\n",
        "minúsculas e maiúsculas sem acentos, uma por linha, e gere um arquivo contendo as frequências\n",
        "absolutas das vogais no formato [a, e, i, o, u], uma lista por linha, correspondendo a cada frase\n",
        "do arquivo de entrada. O cálculo das frequências absolutas deve ser feito por uma função, que\n",
        "também deve ser desenvolvida. A função deve receber a string de uma frase e retornar uma lista\n",
        "com as frequências de cada uma das vogais no formato [a, e, i, o, u], considerando na contagem\n",
        "também as vogais maiúsculas.\n",
        "\n",
        "*Exemplo:*\n",
        "\n",
        "Considerando o seguinte arquivo de frases:\n",
        "\n",
        "Esta e a primeira frase do arquivo\n",
        "\n",
        "Na segunda frase existem mais vogais do que na primeira frase\n",
        "\n",
        "Ultima frase\n",
        "\n",
        "O programa deve produzir o seguinte arquivo de frequências absolutas:\n",
        "\n",
        "[5, 4, 3, 2, 1]\n",
        "\n",
        "[8, 7, 5, 2, 2]\n",
        "\n",
        "[2, 1, 1, 0, 1]"
      ]
    },
    {
      "cell_type": "code",
      "metadata": {
        "id": "90sUCPdprewS"
      },
      "source": [
        "def calcular_freq_vogais(arquivo):\n",
        "  freq_vogais = [0,0,0,0,0]\n",
        "  for palavra in linha:\n",
        "    for letra in palavra:\n",
        "      if letra =='a' or letra == 'A':\n",
        "        freq_vogais[0] = freq_vogais[0] + 1\n",
        "      elif letra =='e' or letra == 'E':\n",
        "        freq_vogais[1] = freq_vogais[1] + 1\n",
        "      elif letra =='i' or letra == 'I':\n",
        "        freq_vogais[2] = freq_vogais[2] + 1\n",
        "      elif letra =='o' or letra == 'O':\n",
        "        freq_vogais[3] = freq_vogais[3] + 1\n",
        "      elif letra =='u' or letra == 'U':\n",
        "        freq_vogais[4] = freq_vogais[4] + 1\n",
        "  return(freq_vogais)\n",
        "  print(freq_vogais)\n",
        "\n",
        "arquivo_leitura = open('/content/drive/MyDrive/Colab Notebooks/prova-2.txt','r')\n",
        "arquivo_saida = open('/content/drive/MyDrive/Colab Notebooks/prova-2-freq.text','w')\n",
        "\n",
        "for linha in arquivo_leitura.readlines():\n",
        "  freq_final = calcular_freq_vogais(linha)\n",
        "  arquivo_saida.write(str(freq_final)+'\\n')\n",
        "\n",
        "arquivo_leitura.close()\n",
        "arquivo_saida.close()"
      ],
      "execution_count": null,
      "outputs": []
    }
  ]
}