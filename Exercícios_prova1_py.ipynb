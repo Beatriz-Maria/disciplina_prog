{
  "nbformat": 4,
  "nbformat_minor": 0,
  "metadata": {
    "colab": {
      "name": "Exercícios-prova1.py",
      "provenance": [],
      "include_colab_link": true
    },
    "kernelspec": {
      "name": "python3",
      "display_name": "Python 3"
    },
    "language_info": {
      "name": "python"
    }
  },
  "cells": [
    {
      "cell_type": "markdown",
      "metadata": {
        "id": "view-in-github",
        "colab_type": "text"
      },
      "source": [
        "<a href=\"https://colab.research.google.com/github/Beatriz-Maria/disciplina_prog/blob/main/Exerc%C3%ADcios_prova1_py.ipynb\" target=\"_parent\"><img src=\"https://colab.research.google.com/assets/colab-badge.svg\" alt=\"Open In Colab\"/></a>"
      ]
    },
    {
      "cell_type": "markdown",
      "metadata": {
        "id": "M96N5QfwZzbI"
      },
      "source": [
        "Questão 1: uma empresa está oferecendo um desconto cujo percentual varia em função do valor da compra de acordo com a tabela. Faça um programa que receba o valor da compra, determine o percentual de desconto a ser concedido, e calcule e escreva na tela"
      ]
    },
    {
      "cell_type": "code",
      "metadata": {
        "id": "T4KBO14WTuOV"
      },
      "source": [
        "Vi = int(input('Informe o valor da sua compra: '))\n",
        "         \n",
        "if Vi < 20:\n",
        "    print('Não tem desconto, o total a pagar em R$ é de ', Vi)\n",
        "if Vi >=20 and Vi >= 50:\n",
        "    Vd = (20/100) * 0,5\n",
        "    print('O valor do desconto em reais é de ', Vd,' e o total a pagar é de ',Vi -Vd)\n",
        "if Vi <=50 and Vi <= 100:\n",
        "    Vd = (Vi/100) * 10\n",
        "    print('O valor do desconto é de ',Vd, 'e o total a pagar é de ',Vi-Vd)\n",
        "if Vi > 100:\n",
        "    Vd = (Vi/100) * 15\n",
        "    print('O valor do desconto é de ', Vd, 'e o total a pagar é de ',Vi-Vd)\n",
        " \n",
        "\"\"\"\n",
        "exclusão... \n",
        "Bia (if e else)\n",
        "...menino e menina\n",
        " \n",
        "50 (if e else)\n",
        "... num é (1) maior que 5 ou (2) menor ou igual a 5\n",
        " \n",
        "(if, elif, else)\n",
        "... num é (1) menor q 0, (2) maior ou igual a 0 e menor q 100, (3) maior ou igual a 100\n",
        "\"\"\""
      ],
      "execution_count": null,
      "outputs": []
    },
    {
      "cell_type": "markdown",
      "metadata": {
        "id": "kCep5MmMZ_Cg"
      },
      "source": [
        "Questão 2: calcule e escreva na tela o valor da soma de uma sequência de números inteiros a partir de informações fornecidas pelo usuário: primeiro número, último número, incremento."
      ]
    },
    {
      "cell_type": "code",
      "metadata": {
        "id": "DgXxEmVRvguD",
        "colab": {
          "base_uri": "https://localhost:8080/"
        },
        "outputId": "b9b44fc7-aa13-4472-c012-bcc7968b2d2c"
      },
      "source": [
        "soma = 0\n",
        "\n",
        "n1 = int(input('Informe um número: '))\n",
        "n2 = int(input('Informe um segundo número: '))\n",
        "n3 = int(input('Informe um último número: '))\n",
        "\n",
        "for num in [n1,n2,n3]:\n",
        "  soma += num\n",
        "  print('A soma dos três números informados é: ',soma)"
      ],
      "execution_count": null,
      "outputs": [
        {
          "output_type": "stream",
          "text": [
            "Informe um número: 5\n",
            "Informe um segundo número: 5\n",
            "Informe um último número: 5\n",
            "A soma dos três números informados é:  5\n",
            "A soma dos três números informados é:  10\n",
            "A soma dos três números informados é:  15\n"
          ],
          "name": "stdout"
        }
      ]
    },
    {
      "cell_type": "markdown",
      "metadata": {
        "id": "txojuoKZaGZn"
      },
      "source": [
        "Questão 3: um programa que receba um número inteiro positivo e calcule e escreva na tela os divisores desse número, excluindo a unidade e o próprio número. O programa não deve informar nada caso não haja nenhum divisor."
      ]
    },
    {
      "cell_type": "code",
      "metadata": {
        "id": "-UNqQu8E4_0a",
        "colab": {
          "base_uri": "https://localhost:8080/"
        },
        "outputId": "1cfb9796-d71d-4773-f458-bffb40dd5763"
      },
      "source": [
        "n = int(input (\"Informe um número: \"))\n",
        "i = 0\n",
        "div = []\n",
        "\n",
        "for andador in range(n,n+1):\n",
        "  if n>=0:\n",
        "    i += 1\n",
        "    div.append(i+n)  \n",
        "    print (\"O número é divisivel por \",div)\n",
        "\n",
        "\n",
        "  \n"
      ],
      "execution_count": null,
      "outputs": [
        {
          "output_type": "stream",
          "text": [
            "Informe um número: 12\n",
            "O número é divisivel por  [13]\n"
          ],
          "name": "stdout"
        }
      ]
    },
    {
      "cell_type": "markdown",
      "metadata": {
        "id": "vpzzx8vUaNyC"
      },
      "source": [
        "Questão 4: receba do usuário a quantidade de linhas (L) e a quantidade de colunas (C) de uma tabela e escreva na tela os indices (L,C) de todas as células\n",
        "da tabela. Quando a célula estiver na diagonal da tabela, o programa deve fornecer essa informação.\n",
        "\n"
      ]
    },
    {
      "cell_type": "code",
      "metadata": {
        "id": "EBI-_85S4_P_",
        "colab": {
          "base_uri": "https://localhost:8080/",
          "height": 681
        },
        "outputId": "044e4c05-a675-49d8-b562-2c0fc39fca48"
      },
      "source": [
        "n = int(input (\"Informe um número positivo: \"))\n",
        "if n<0:\n",
        "    print(\"Percebi que vc não informou um num positivo\")\n",
        "    n = int(input (\"Informe um número positivo: \"))\n",
        "\n",
        "div = []\n",
        "\n",
        "for item in range(2,n):\n",
        "    if n % item == 0:\n",
        "        print(\"...Estou vendo que\", n, \" é divisivel por\", item)\n",
        "        div.append(item) \n",
        "    else:\n",
        "        print(\"\\n...Estou vendo que\", n, \" nao é divisivel por\", item)\n",
        "        \n",
        "    print (\"\\nThe end: O número é divisivel por \",div)\n",
        "\n",
        "\"\"\"\n",
        "% -> operador de módulo (resto da divisão)\n",
        "5 % 2 = 1 (pq o resto da div de 5 por 2 é 1)\n",
        "4 % 2 = 0 (pq o resto da div de 4 por 2 é 0, significando que 4 é divisível por 2)\n",
        "\"\"\""
      ],
      "execution_count": null,
      "outputs": [
        {
          "output_type": "stream",
          "text": [
            "Informe um número positivo: 12\n",
            "...Estou vendo que 12  é divisivel por 2\n",
            "\n",
            "The end: O número é divisivel por  [2]\n",
            "...Estou vendo que 12  é divisivel por 3\n",
            "\n",
            "The end: O número é divisivel por  [2, 3]\n",
            "...Estou vendo que 12  é divisivel por 4\n",
            "\n",
            "The end: O número é divisivel por  [2, 3, 4]\n",
            "\n",
            "...Estou vendo que 12  nao é divisivel por 5\n",
            "\n",
            "The end: O número é divisivel por  [2, 3, 4]\n",
            "...Estou vendo que 12  é divisivel por 6\n",
            "\n",
            "The end: O número é divisivel por  [2, 3, 4, 6]\n",
            "\n",
            "...Estou vendo que 12  nao é divisivel por 7\n",
            "\n",
            "The end: O número é divisivel por  [2, 3, 4, 6]\n",
            "\n",
            "...Estou vendo que 12  nao é divisivel por 8\n",
            "\n",
            "The end: O número é divisivel por  [2, 3, 4, 6]\n",
            "\n",
            "...Estou vendo que 12  nao é divisivel por 9\n",
            "\n",
            "The end: O número é divisivel por  [2, 3, 4, 6]\n",
            "\n",
            "...Estou vendo que 12  nao é divisivel por 10\n",
            "\n",
            "The end: O número é divisivel por  [2, 3, 4, 6]\n",
            "\n",
            "...Estou vendo que 12  nao é divisivel por 11\n",
            "\n",
            "The end: O número é divisivel por  [2, 3, 4, 6]\n"
          ],
          "name": "stdout"
        },
        {
          "output_type": "execute_result",
          "data": {
            "application/vnd.google.colaboratory.intrinsic+json": {
              "type": "string"
            },
            "text/plain": [
              "'\\n% -> operador de módulo (resto da divisão)\\n5 % 2 = 1 (pq o resto da div de 5 por 2 é 1)\\n4 % 2 = 0 (pq o resto da div de 4 por 2 é 0, significando que 4 é divisível por 2)\\n'"
            ]
          },
          "metadata": {
            "tags": []
          },
          "execution_count": 2
        }
      ]
    },
    {
      "cell_type": "code",
      "metadata": {
        "id": "rhYj3Iz4UPkU"
      },
      "source": [
        "\"\"\"\n",
        "#Questão 4: receba do usuário a quantidade de linhas (L) e a quantidade de colunas (C) de uma tabela e escreva na tela os indices (L,C) de todas as células\n",
        "#da tabela. Quando a célula estiver na diagonal da tabela, o programa deve fornecer essa informação.\n",
        "\n",
        "Matriz: 4linhas, 3 colunas # 4 -> input da qtdd de linhas, 3 -> input da qtdd colunas\n",
        "\n",
        "n_linhas = int(input (\"Informe qtdd de linhas: \"))\n",
        "n_colunas = int(input (\"Informe qtdd de colunas: \"))\n",
        "\n",
        "Resposta:\n",
        "\n",
        "for andador_indice_coluna in range(1,n_colunas+1):\n",
        "    for andador_indice_linha in range(1,n_linhas+1):\n",
        "        if andador_indice_linha == andador_indice_coluna:\n",
        "            print(\"L\",andador_indice_linha, \", C\", andador_indice_coluna, \" -> diagonal\")\n",
        "        else:\n",
        "            print(\"L\",andador_indice_linha, \", C\", andador_indice_coluna)\n",
        "\n",
        "Linha com indice alterando, e coluna fixa em 1\n",
        "L1, C1 -> Diagonal   #Linha = coluna -> colocar isso em condicao\n",
        "L2, C1\n",
        "L3, C1\n",
        "L4, C1\n",
        "\n",
        "Linha com indice alterando, e coluna fixa em 2\n",
        "L1, C2\n",
        "L2, C2 -> Diagonal\n",
        "L3, C2\n",
        "L4, C2\n",
        "\n",
        "Linha com indice alterando, e coluna fixa em 3\n",
        "L1, C3\n",
        "L2, C3\n",
        "L3, C3 -> Diagonal\n",
        "L4, C3\n",
        "\n",
        "Para cada indice da coluna q vai alterando\n",
        "    Eu altero os indices da linha\n",
        "\"\"\""
      ],
      "execution_count": null,
      "outputs": []
    },
    {
      "cell_type": "code",
      "metadata": {
        "id": "dHrb9iZIUW12",
        "colab": {
          "base_uri": "https://localhost:8080/"
        },
        "outputId": "87d2c406-ec2c-45ea-cfb7-e92f1b30eab0"
      },
      "source": [
        "n_linhas = int(input (\"Informe qtdd de linhas: \"))\n",
        "n_colunas = int(input (\"Informe qtdd de colunas: \"))\n",
        "\n",
        "for andador_indice_coluna in range(1,n_colunas+1):\n",
        "    for andador_indice_linha in range(1,n_linhas+1):\n",
        "        if andador_indice_linha == andador_indice_coluna:\n",
        "            print(\"L\",andador_indice_linha, \", C\", andador_indice_coluna, \" -> diagonal\")\n",
        "        else:\n",
        "            print(\"L\",andador_indice_linha, \", C\", andador_indice_coluna)"
      ],
      "execution_count": null,
      "outputs": [
        {
          "output_type": "stream",
          "text": [
            "Informe qtdd de linhas: 4\n",
            "Informe qtdd de colunas: 3\n",
            "L 1 , C 1  -> diagonal\n",
            "L 2 , C 1\n",
            "L 3 , C 1\n",
            "L 4 , C 1\n",
            "L 1 , C 2\n",
            "L 2 , C 2  -> diagonal\n",
            "L 3 , C 2\n",
            "L 4 , C 2\n",
            "L 1 , C 3\n",
            "L 2 , C 3\n",
            "L 3 , C 3  -> diagonal\n",
            "L 4 , C 3\n"
          ],
          "name": "stdout"
        }
      ]
    },
    {
      "cell_type": "code",
      "metadata": {
        "id": "Su0xD1H5-nUW"
      },
      "source": [
        "n_linhas = int(input (\"Informe quantidade de linhas: \"))\n",
        "\n",
        "n_colunas = int(input (\"Informe quantidade de colunas: \"))\n",
        "\n",
        "andador_indice_linha = 1\n",
        "\n",
        "while n_linhas >= andador_indice_linha:\n",
        "  andador_indice_coluna = 1\n",
        "  while andador_indice_coluna <= n_colunas:\n",
        "    if andador_indice_linha == andador_indice_coluna:\n",
        "      print(\"L\",andador_indice_linha, \", C\", andador_indice_coluna, \" -> diagonal\")\n",
        "    else:\n",
        "      print(\"L\",andador_indice_linha, \", C\", andador_indice_coluna)\n",
        "    n_colunas = n_colunas + 1\n",
        "    n_linhas = n_linhas + 1"
      ],
      "execution_count": null,
      "outputs": []
    },
    {
      "cell_type": "code",
      "metadata": {
        "id": "QcRG-5bw0JWG"
      },
      "source": [
        "#enquanto eu não chegar na diagonal quero que permaneça andando -> andador_indice_linha diferente andador_indice_coluna\n",
        "#se tiver uma diagonal ele para -> andador_indice_linha == andador_indice_coluna'' \n",
        "\n",
        "#while andador_indice_linha+1 and andador_indice_coluna+1:\n",
        "\n",
        "\n",
        "n_linhas = int(input (\"Informe quantidade de linhas: \"))\n",
        "n_colunas = int(input (\"Informe quantidade de colunas: \"))\n",
        "\n",
        "andador_indice_linha = 1\n",
        "andador_indice_coluna = 1\n",
        "\n",
        "while andador_indice_linha != andador_indice_coluna:\n",
        "    print(\"L\",andador_indice_linha, \", C\", andador_indice_coluna)\n",
        "        if andador_indice_linha == andador_indice_coluna:\n",
        "          print(\"L\",andador_indice_linha, \", C\", andador_indice_coluna, \" -> diagonal\")\n",
        "      \n",
        "        \n",
        "\n",
        "\n"
      ],
      "execution_count": null,
      "outputs": []
    }
  ]
}