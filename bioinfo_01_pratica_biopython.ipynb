{
  "nbformat": 4,
  "nbformat_minor": 0,
  "metadata": {
    "colab": {
      "name": "bioinfo_01_pratica_biopython.ipynb",
      "provenance": [],
      "collapsed_sections": [],
      "include_colab_link": true
    },
    "kernelspec": {
      "name": "python3",
      "display_name": "Python 3"
    },
    "language_info": {
      "name": "python"
    }
  },
  "cells": [
    {
      "cell_type": "markdown",
      "metadata": {
        "id": "view-in-github",
        "colab_type": "text"
      },
      "source": [
        "<a href=\"https://colab.research.google.com/github/Beatriz-Maria/disciplina_prog/blob/main/bioinfo_01_pratica_biopython.ipynb\" target=\"_parent\"><img src=\"https://colab.research.google.com/assets/colab-badge.svg\" alt=\"Open In Colab\"/></a>"
      ]
    },
    {
      "cell_type": "markdown",
      "source": [
        "## **Aula 1**\n",
        "Aula sobre a utilização do Google Colab e do pacote Biopython. Essa aula tem informações básicas sobre o pacote e seu funcionamento.\n",
        "\n",
        "O site do pacote é: https://biopython.org\n",
        "\n",
        "O tutorial para utilização é: http://biopython.org/DIST/docs/tutorial/Tutorial.pdf"
      ],
      "metadata": {
        "id": "NZv83q7MynQR"
      }
    },
    {
      "cell_type": "markdown",
      "source": [
        "# **No começo era tudo uma grande massa sem vida**\n",
        "\n",
        "Inicializar o computador do Google.\n",
        "\n",
        "Instalação do pacote Biopython.\n",
        "\n",
        "Importar a biblioteca Biopython e o objeto ***Seq*** da biblioteca.\n",
        "\n",
        "Verificar a versão da biblioteca.\n",
        "\n",
        "Exemplo de utilização do objeto ***Seq***"
      ],
      "metadata": {
        "id": "fPgkhc2cyJ3i"
      }
    },
    {
      "cell_type": "code",
      "source": [
        "!pip3 install biopython #Instalação do pacote\n",
        "import Bio # Importação da biblioteca\n",
        "from Bio.Seq import Seq # Importação do objeto Seq\n",
        "print(\"Version: \", Bio.__version__)\n",
        "my_seq = Seq(\"AGTACACTGGT\")"
      ],
      "metadata": {
        "id": "RxMGXDNY7J7x",
        "colab": {
          "base_uri": "https://localhost:8080/"
        },
        "outputId": "57ea7829-cb9f-4203-a4e4-e3c298cdf660"
      },
      "execution_count": 1,
      "outputs": [
        {
          "output_type": "stream",
          "name": "stdout",
          "text": [
            "Looking in indexes: https://pypi.org/simple, https://us-python.pkg.dev/colab-wheels/public/simple/\n",
            "Collecting biopython\n",
            "  Downloading biopython-1.79-cp37-cp37m-manylinux_2_5_x86_64.manylinux1_x86_64.whl (2.3 MB)\n",
            "\u001b[K     |████████████████████████████████| 2.3 MB 4.3 MB/s \n",
            "\u001b[?25hRequirement already satisfied: numpy in /usr/local/lib/python3.7/dist-packages (from biopython) (1.21.6)\n",
            "Installing collected packages: biopython\n",
            "Successfully installed biopython-1.79\n",
            "Version:  1.79\n"
          ]
        }
      ]
    },
    {
      "cell_type": "code",
      "source": [
        "import Bio as Seq"
      ],
      "metadata": {
        "id": "1VoaaKsst268"
      },
      "execution_count": 8,
      "outputs": []
    },
    {
      "cell_type": "markdown",
      "source": [
        "# **Operações com o objeto *Seq*.**"
      ],
      "metadata": {
        "id": "qjIK4ciMG6Nn"
      }
    },
    {
      "cell_type": "markdown",
      "source": [
        "### **Manipulação de sequência**"
      ],
      "metadata": {
        "id": "_FRIb5x9JHyb"
      }
    },
    {
      "cell_type": "code",
      "source": [
        "# meu teste\n",
        "print(\"Seq: \", my_seq)"
      ],
      "metadata": {
        "colab": {
          "base_uri": "https://localhost:8080/"
        },
        "id": "fL6GGa25rzgw",
        "outputId": "ed0496b0-2452-445f-dd04-e2941f50699e"
      },
      "execution_count": 2,
      "outputs": [
        {
          "output_type": "stream",
          "name": "stdout",
          "text": [
            "Seq:  AGTACACTGGT\n"
          ]
        }
      ]
    },
    {
      "cell_type": "code",
      "execution_count": 3,
      "metadata": {
        "id": "CD-EqAALwdU-",
        "colab": {
          "base_uri": "https://localhost:8080/"
        },
        "outputId": "ba1cf5ca-6bc5-4297-ab3b-89cedccbd036"
      },
      "outputs": [
        {
          "output_type": "stream",
          "name": "stdout",
          "text": [
            "Seq:  AGTACACTGGT\n",
            "C\n",
            "TACAC\n",
            "GGT\n",
            "Seq reverse:  TGGTCACATGA\n",
            "Seq Complement:  TCATGTGACCA\n",
            "Reverse Seq Complement: ACCAGTGTACT\n",
            "Count A:  3\n"
          ]
        }
      ],
      "source": [
        "print(\"Seq: \", my_seq)\n",
        "print(my_seq[4])\n",
        "print(my_seq[2:7])\n",
        "print(my_seq[8:])\n",
        "print(\"Seq reverse: \", my_seq[::-1])\n",
        "print(\"Seq Complement: \", my_seq.complement())\n",
        "print(\"Reverse Seq Complement:\", my_seq.reverse_complement())\n",
        "print(\"Count A: \", my_seq.count(\"A\"))\n"
      ]
    },
    {
      "cell_type": "code",
      "source": [
        "# meu teste\n",
        "seq_test = 'ATGCTGATCGAT'\n",
        "print('minha seq tem', my_seq.count(\"A\"), 'bases adenina')"
      ],
      "metadata": {
        "colab": {
          "base_uri": "https://localhost:8080/"
        },
        "id": "t3le3b5Qur9E",
        "outputId": "ff1eabaf-a82d-4115-8e31-e36964d48f9c"
      },
      "execution_count": 10,
      "outputs": [
        {
          "output_type": "stream",
          "name": "stdout",
          "text": [
            "minha seq tem 3 bases adenina\n"
          ]
        }
      ]
    },
    {
      "cell_type": "markdown",
      "source": [
        "### **Probabilidades e Possibilidades**\n",
        "\n"
      ],
      "metadata": {
        "id": "XI9ZmJjRI_Do"
      }
    },
    {
      "cell_type": "code",
      "source": [
        "print(\"Seq: \", my_seq)\n",
        "print(\"Seq lenght: \", len(my_seq))\n",
        "seq_size = len(my_seq)\n",
        "print(\"Count A:\", my_seq.count(\"A\"), \"-- Probability: \", my_seq.count(\"A\")/seq_size)\n",
        "print(\"Count C:\", my_seq.count(\"C\"), \"-- Probability: \", my_seq.count(\"C\")/seq_size)\n",
        "print(\"Count T:\", my_seq.count(\"T\"), \"-- Probability: \", my_seq.count(\"T\")/seq_size)\n",
        "\n",
        "print(\"\\nExemplo de formatação da saída do texto:\")\n",
        "print(\"Count G:%2d -- Probability: %5.2f\" % (my_seq.count(\"G\"), my_seq.count(\"G\")/seq_size))"
      ],
      "metadata": {
        "id": "coTQOwd5Hefv",
        "colab": {
          "base_uri": "https://localhost:8080/"
        },
        "outputId": "61792703-f50e-4f57-e24a-7f83215d9a85"
      },
      "execution_count": 5,
      "outputs": [
        {
          "output_type": "stream",
          "name": "stdout",
          "text": [
            "Seq:  AGTACACTGGT\n",
            "Seq lenght:  11\n",
            "Count A: 3 -- Probability:  0.2727272727272727\n",
            "Count C: 2 -- Probability:  0.18181818181818182\n",
            "Count T: 3 -- Probability:  0.2727272727272727\n",
            "\n",
            "Exemplo de formatação da saída do texto:\n",
            "Count G: 3 -- Probability:  0.27\n"
          ]
        }
      ]
    },
    {
      "cell_type": "code",
      "source": [
        "print(\"Seq: \", my_seq)\n",
        "my_seq_list = ['A','C','T','G']\n",
        "print(\"--------------------------------------------------\")\n",
        "print(\"Exemplo utilizando a lista my_seq_list\")\n",
        "for base in my_seq_list:\n",
        "  print(\"%s -- Probability: %5.2f \" % (base, my_seq.count(base)/seq_size))\n",
        "print(\"--------------------------------------------------\")\n",
        "my_seq_list2 = [\"AA\", \"AC\", \"AT\", \"AG\", \"CA\", \"CC\", \"CT\", \"CG\", \"TA\", \"TC\",\n",
        "                \"TT\", \"TG\", \"GA\", \"GC\", \"GT\", \"GG\"]\n",
        "print(\"Exemplo utilizando a lista my_seq_list2\")\n",
        "for base in my_seq_list2:\n",
        "  print(\"%s -- Probability: %5.2f \" % (base, my_seq.count(base)/(seq_size-1)))\n",
        "print(\"--------------------------------------------------\")\n",
        "print(\"Exemplo utilizando a lista my_seq_list com dois laços para fazer a lista my_seq_list2\")\n",
        "for base in my_seq_list:\n",
        "  for base2 in my_seq_list:\n",
        "    print(\"%s -- Probability: %5.2f \" % (base+base2, my_seq.count(base+base2)/(seq_size-1)))"
      ],
      "metadata": {
        "id": "098krOiGTjQe",
        "colab": {
          "base_uri": "https://localhost:8080/"
        },
        "outputId": "4ee64d94-dbc6-402b-d6c6-74f270f4c2b6"
      },
      "execution_count": 6,
      "outputs": [
        {
          "output_type": "stream",
          "name": "stdout",
          "text": [
            "Seq:  AGTACACTGGT\n",
            "--------------------------------------------------\n",
            "Exemplo utilizando a lista my_seq_list\n",
            "A -- Probability:  0.27 \n",
            "C -- Probability:  0.18 \n",
            "T -- Probability:  0.27 \n",
            "G -- Probability:  0.27 \n",
            "--------------------------------------------------\n",
            "Exemplo utilizando a lista my_seq_list2\n",
            "AA -- Probability:  0.00 \n",
            "AC -- Probability:  0.20 \n",
            "AT -- Probability:  0.00 \n",
            "AG -- Probability:  0.10 \n",
            "CA -- Probability:  0.10 \n",
            "CC -- Probability:  0.00 \n",
            "CT -- Probability:  0.10 \n",
            "CG -- Probability:  0.00 \n",
            "TA -- Probability:  0.10 \n",
            "TC -- Probability:  0.00 \n",
            "TT -- Probability:  0.00 \n",
            "TG -- Probability:  0.10 \n",
            "GA -- Probability:  0.00 \n",
            "GC -- Probability:  0.00 \n",
            "GT -- Probability:  0.20 \n",
            "GG -- Probability:  0.10 \n",
            "--------------------------------------------------\n",
            "Exemplo utilizando a lista my_seq_list com dois laços para fazer a lista my_seq_list2\n",
            "AA -- Probability:  0.00 \n",
            "AC -- Probability:  0.20 \n",
            "AT -- Probability:  0.00 \n",
            "AG -- Probability:  0.10 \n",
            "CA -- Probability:  0.10 \n",
            "CC -- Probability:  0.00 \n",
            "CT -- Probability:  0.10 \n",
            "CG -- Probability:  0.00 \n",
            "TA -- Probability:  0.10 \n",
            "TC -- Probability:  0.00 \n",
            "TT -- Probability:  0.00 \n",
            "TG -- Probability:  0.10 \n",
            "GA -- Probability:  0.00 \n",
            "GC -- Probability:  0.00 \n",
            "GT -- Probability:  0.20 \n",
            "GG -- Probability:  0.10 \n"
          ]
        }
      ]
    },
    {
      "cell_type": "code",
      "source": [
        "print(\"--------------------------------------------------\")\n",
        "temp = []\n",
        "my_seq_list2 = my_seq_list\n",
        "print(\"Exemplo utilizando a lista my_seq_list com dois laços para fazer uma lista com 5 pb\")\n",
        "for x in range(5):\n",
        "  for base in my_seq_list2:\n",
        "     temp.append(base+'A')\n",
        "     temp.append(base+'C')\n",
        "     temp.append(base+'T')\n",
        "     temp.append(base+'G')\n",
        "  print(\"Size: \", len(temp))\n",
        "  print(temp)\n",
        "  my_seq_list2 = temp\n",
        "  temp = []"
      ],
      "metadata": {
        "id": "FvSmd85v5V0R",
        "colab": {
          "base_uri": "https://localhost:8080/"
        },
        "outputId": "2de54be5-cd30-499f-fe58-4d4ac5834cee"
      },
      "execution_count": 7,
      "outputs": [
        {
          "output_type": "stream",
          "name": "stdout",
          "text": [
            "--------------------------------------------------\n",
            "Exemplo utilizando a lista my_seq_list com dois laços para fazer uma lista com 5 pb\n",
            "Size:  16\n",
            "['AA', 'AC', 'AT', 'AG', 'CA', 'CC', 'CT', 'CG', 'TA', 'TC', 'TT', 'TG', 'GA', 'GC', 'GT', 'GG']\n",
            "Size:  64\n",
            "['AAA', 'AAC', 'AAT', 'AAG', 'ACA', 'ACC', 'ACT', 'ACG', 'ATA', 'ATC', 'ATT', 'ATG', 'AGA', 'AGC', 'AGT', 'AGG', 'CAA', 'CAC', 'CAT', 'CAG', 'CCA', 'CCC', 'CCT', 'CCG', 'CTA', 'CTC', 'CTT', 'CTG', 'CGA', 'CGC', 'CGT', 'CGG', 'TAA', 'TAC', 'TAT', 'TAG', 'TCA', 'TCC', 'TCT', 'TCG', 'TTA', 'TTC', 'TTT', 'TTG', 'TGA', 'TGC', 'TGT', 'TGG', 'GAA', 'GAC', 'GAT', 'GAG', 'GCA', 'GCC', 'GCT', 'GCG', 'GTA', 'GTC', 'GTT', 'GTG', 'GGA', 'GGC', 'GGT', 'GGG']\n",
            "Size:  256\n",
            "['AAAA', 'AAAC', 'AAAT', 'AAAG', 'AACA', 'AACC', 'AACT', 'AACG', 'AATA', 'AATC', 'AATT', 'AATG', 'AAGA', 'AAGC', 'AAGT', 'AAGG', 'ACAA', 'ACAC', 'ACAT', 'ACAG', 'ACCA', 'ACCC', 'ACCT', 'ACCG', 'ACTA', 'ACTC', 'ACTT', 'ACTG', 'ACGA', 'ACGC', 'ACGT', 'ACGG', 'ATAA', 'ATAC', 'ATAT', 'ATAG', 'ATCA', 'ATCC', 'ATCT', 'ATCG', 'ATTA', 'ATTC', 'ATTT', 'ATTG', 'ATGA', 'ATGC', 'ATGT', 'ATGG', 'AGAA', 'AGAC', 'AGAT', 'AGAG', 'AGCA', 'AGCC', 'AGCT', 'AGCG', 'AGTA', 'AGTC', 'AGTT', 'AGTG', 'AGGA', 'AGGC', 'AGGT', 'AGGG', 'CAAA', 'CAAC', 'CAAT', 'CAAG', 'CACA', 'CACC', 'CACT', 'CACG', 'CATA', 'CATC', 'CATT', 'CATG', 'CAGA', 'CAGC', 'CAGT', 'CAGG', 'CCAA', 'CCAC', 'CCAT', 'CCAG', 'CCCA', 'CCCC', 'CCCT', 'CCCG', 'CCTA', 'CCTC', 'CCTT', 'CCTG', 'CCGA', 'CCGC', 'CCGT', 'CCGG', 'CTAA', 'CTAC', 'CTAT', 'CTAG', 'CTCA', 'CTCC', 'CTCT', 'CTCG', 'CTTA', 'CTTC', 'CTTT', 'CTTG', 'CTGA', 'CTGC', 'CTGT', 'CTGG', 'CGAA', 'CGAC', 'CGAT', 'CGAG', 'CGCA', 'CGCC', 'CGCT', 'CGCG', 'CGTA', 'CGTC', 'CGTT', 'CGTG', 'CGGA', 'CGGC', 'CGGT', 'CGGG', 'TAAA', 'TAAC', 'TAAT', 'TAAG', 'TACA', 'TACC', 'TACT', 'TACG', 'TATA', 'TATC', 'TATT', 'TATG', 'TAGA', 'TAGC', 'TAGT', 'TAGG', 'TCAA', 'TCAC', 'TCAT', 'TCAG', 'TCCA', 'TCCC', 'TCCT', 'TCCG', 'TCTA', 'TCTC', 'TCTT', 'TCTG', 'TCGA', 'TCGC', 'TCGT', 'TCGG', 'TTAA', 'TTAC', 'TTAT', 'TTAG', 'TTCA', 'TTCC', 'TTCT', 'TTCG', 'TTTA', 'TTTC', 'TTTT', 'TTTG', 'TTGA', 'TTGC', 'TTGT', 'TTGG', 'TGAA', 'TGAC', 'TGAT', 'TGAG', 'TGCA', 'TGCC', 'TGCT', 'TGCG', 'TGTA', 'TGTC', 'TGTT', 'TGTG', 'TGGA', 'TGGC', 'TGGT', 'TGGG', 'GAAA', 'GAAC', 'GAAT', 'GAAG', 'GACA', 'GACC', 'GACT', 'GACG', 'GATA', 'GATC', 'GATT', 'GATG', 'GAGA', 'GAGC', 'GAGT', 'GAGG', 'GCAA', 'GCAC', 'GCAT', 'GCAG', 'GCCA', 'GCCC', 'GCCT', 'GCCG', 'GCTA', 'GCTC', 'GCTT', 'GCTG', 'GCGA', 'GCGC', 'GCGT', 'GCGG', 'GTAA', 'GTAC', 'GTAT', 'GTAG', 'GTCA', 'GTCC', 'GTCT', 'GTCG', 'GTTA', 'GTTC', 'GTTT', 'GTTG', 'GTGA', 'GTGC', 'GTGT', 'GTGG', 'GGAA', 'GGAC', 'GGAT', 'GGAG', 'GGCA', 'GGCC', 'GGCT', 'GGCG', 'GGTA', 'GGTC', 'GGTT', 'GGTG', 'GGGA', 'GGGC', 'GGGT', 'GGGG']\n",
            "Size:  1024\n",
            "['AAAAA', 'AAAAC', 'AAAAT', 'AAAAG', 'AAACA', 'AAACC', 'AAACT', 'AAACG', 'AAATA', 'AAATC', 'AAATT', 'AAATG', 'AAAGA', 'AAAGC', 'AAAGT', 'AAAGG', 'AACAA', 'AACAC', 'AACAT', 'AACAG', 'AACCA', 'AACCC', 'AACCT', 'AACCG', 'AACTA', 'AACTC', 'AACTT', 'AACTG', 'AACGA', 'AACGC', 'AACGT', 'AACGG', 'AATAA', 'AATAC', 'AATAT', 'AATAG', 'AATCA', 'AATCC', 'AATCT', 'AATCG', 'AATTA', 'AATTC', 'AATTT', 'AATTG', 'AATGA', 'AATGC', 'AATGT', 'AATGG', 'AAGAA', 'AAGAC', 'AAGAT', 'AAGAG', 'AAGCA', 'AAGCC', 'AAGCT', 'AAGCG', 'AAGTA', 'AAGTC', 'AAGTT', 'AAGTG', 'AAGGA', 'AAGGC', 'AAGGT', 'AAGGG', 'ACAAA', 'ACAAC', 'ACAAT', 'ACAAG', 'ACACA', 'ACACC', 'ACACT', 'ACACG', 'ACATA', 'ACATC', 'ACATT', 'ACATG', 'ACAGA', 'ACAGC', 'ACAGT', 'ACAGG', 'ACCAA', 'ACCAC', 'ACCAT', 'ACCAG', 'ACCCA', 'ACCCC', 'ACCCT', 'ACCCG', 'ACCTA', 'ACCTC', 'ACCTT', 'ACCTG', 'ACCGA', 'ACCGC', 'ACCGT', 'ACCGG', 'ACTAA', 'ACTAC', 'ACTAT', 'ACTAG', 'ACTCA', 'ACTCC', 'ACTCT', 'ACTCG', 'ACTTA', 'ACTTC', 'ACTTT', 'ACTTG', 'ACTGA', 'ACTGC', 'ACTGT', 'ACTGG', 'ACGAA', 'ACGAC', 'ACGAT', 'ACGAG', 'ACGCA', 'ACGCC', 'ACGCT', 'ACGCG', 'ACGTA', 'ACGTC', 'ACGTT', 'ACGTG', 'ACGGA', 'ACGGC', 'ACGGT', 'ACGGG', 'ATAAA', 'ATAAC', 'ATAAT', 'ATAAG', 'ATACA', 'ATACC', 'ATACT', 'ATACG', 'ATATA', 'ATATC', 'ATATT', 'ATATG', 'ATAGA', 'ATAGC', 'ATAGT', 'ATAGG', 'ATCAA', 'ATCAC', 'ATCAT', 'ATCAG', 'ATCCA', 'ATCCC', 'ATCCT', 'ATCCG', 'ATCTA', 'ATCTC', 'ATCTT', 'ATCTG', 'ATCGA', 'ATCGC', 'ATCGT', 'ATCGG', 'ATTAA', 'ATTAC', 'ATTAT', 'ATTAG', 'ATTCA', 'ATTCC', 'ATTCT', 'ATTCG', 'ATTTA', 'ATTTC', 'ATTTT', 'ATTTG', 'ATTGA', 'ATTGC', 'ATTGT', 'ATTGG', 'ATGAA', 'ATGAC', 'ATGAT', 'ATGAG', 'ATGCA', 'ATGCC', 'ATGCT', 'ATGCG', 'ATGTA', 'ATGTC', 'ATGTT', 'ATGTG', 'ATGGA', 'ATGGC', 'ATGGT', 'ATGGG', 'AGAAA', 'AGAAC', 'AGAAT', 'AGAAG', 'AGACA', 'AGACC', 'AGACT', 'AGACG', 'AGATA', 'AGATC', 'AGATT', 'AGATG', 'AGAGA', 'AGAGC', 'AGAGT', 'AGAGG', 'AGCAA', 'AGCAC', 'AGCAT', 'AGCAG', 'AGCCA', 'AGCCC', 'AGCCT', 'AGCCG', 'AGCTA', 'AGCTC', 'AGCTT', 'AGCTG', 'AGCGA', 'AGCGC', 'AGCGT', 'AGCGG', 'AGTAA', 'AGTAC', 'AGTAT', 'AGTAG', 'AGTCA', 'AGTCC', 'AGTCT', 'AGTCG', 'AGTTA', 'AGTTC', 'AGTTT', 'AGTTG', 'AGTGA', 'AGTGC', 'AGTGT', 'AGTGG', 'AGGAA', 'AGGAC', 'AGGAT', 'AGGAG', 'AGGCA', 'AGGCC', 'AGGCT', 'AGGCG', 'AGGTA', 'AGGTC', 'AGGTT', 'AGGTG', 'AGGGA', 'AGGGC', 'AGGGT', 'AGGGG', 'CAAAA', 'CAAAC', 'CAAAT', 'CAAAG', 'CAACA', 'CAACC', 'CAACT', 'CAACG', 'CAATA', 'CAATC', 'CAATT', 'CAATG', 'CAAGA', 'CAAGC', 'CAAGT', 'CAAGG', 'CACAA', 'CACAC', 'CACAT', 'CACAG', 'CACCA', 'CACCC', 'CACCT', 'CACCG', 'CACTA', 'CACTC', 'CACTT', 'CACTG', 'CACGA', 'CACGC', 'CACGT', 'CACGG', 'CATAA', 'CATAC', 'CATAT', 'CATAG', 'CATCA', 'CATCC', 'CATCT', 'CATCG', 'CATTA', 'CATTC', 'CATTT', 'CATTG', 'CATGA', 'CATGC', 'CATGT', 'CATGG', 'CAGAA', 'CAGAC', 'CAGAT', 'CAGAG', 'CAGCA', 'CAGCC', 'CAGCT', 'CAGCG', 'CAGTA', 'CAGTC', 'CAGTT', 'CAGTG', 'CAGGA', 'CAGGC', 'CAGGT', 'CAGGG', 'CCAAA', 'CCAAC', 'CCAAT', 'CCAAG', 'CCACA', 'CCACC', 'CCACT', 'CCACG', 'CCATA', 'CCATC', 'CCATT', 'CCATG', 'CCAGA', 'CCAGC', 'CCAGT', 'CCAGG', 'CCCAA', 'CCCAC', 'CCCAT', 'CCCAG', 'CCCCA', 'CCCCC', 'CCCCT', 'CCCCG', 'CCCTA', 'CCCTC', 'CCCTT', 'CCCTG', 'CCCGA', 'CCCGC', 'CCCGT', 'CCCGG', 'CCTAA', 'CCTAC', 'CCTAT', 'CCTAG', 'CCTCA', 'CCTCC', 'CCTCT', 'CCTCG', 'CCTTA', 'CCTTC', 'CCTTT', 'CCTTG', 'CCTGA', 'CCTGC', 'CCTGT', 'CCTGG', 'CCGAA', 'CCGAC', 'CCGAT', 'CCGAG', 'CCGCA', 'CCGCC', 'CCGCT', 'CCGCG', 'CCGTA', 'CCGTC', 'CCGTT', 'CCGTG', 'CCGGA', 'CCGGC', 'CCGGT', 'CCGGG', 'CTAAA', 'CTAAC', 'CTAAT', 'CTAAG', 'CTACA', 'CTACC', 'CTACT', 'CTACG', 'CTATA', 'CTATC', 'CTATT', 'CTATG', 'CTAGA', 'CTAGC', 'CTAGT', 'CTAGG', 'CTCAA', 'CTCAC', 'CTCAT', 'CTCAG', 'CTCCA', 'CTCCC', 'CTCCT', 'CTCCG', 'CTCTA', 'CTCTC', 'CTCTT', 'CTCTG', 'CTCGA', 'CTCGC', 'CTCGT', 'CTCGG', 'CTTAA', 'CTTAC', 'CTTAT', 'CTTAG', 'CTTCA', 'CTTCC', 'CTTCT', 'CTTCG', 'CTTTA', 'CTTTC', 'CTTTT', 'CTTTG', 'CTTGA', 'CTTGC', 'CTTGT', 'CTTGG', 'CTGAA', 'CTGAC', 'CTGAT', 'CTGAG', 'CTGCA', 'CTGCC', 'CTGCT', 'CTGCG', 'CTGTA', 'CTGTC', 'CTGTT', 'CTGTG', 'CTGGA', 'CTGGC', 'CTGGT', 'CTGGG', 'CGAAA', 'CGAAC', 'CGAAT', 'CGAAG', 'CGACA', 'CGACC', 'CGACT', 'CGACG', 'CGATA', 'CGATC', 'CGATT', 'CGATG', 'CGAGA', 'CGAGC', 'CGAGT', 'CGAGG', 'CGCAA', 'CGCAC', 'CGCAT', 'CGCAG', 'CGCCA', 'CGCCC', 'CGCCT', 'CGCCG', 'CGCTA', 'CGCTC', 'CGCTT', 'CGCTG', 'CGCGA', 'CGCGC', 'CGCGT', 'CGCGG', 'CGTAA', 'CGTAC', 'CGTAT', 'CGTAG', 'CGTCA', 'CGTCC', 'CGTCT', 'CGTCG', 'CGTTA', 'CGTTC', 'CGTTT', 'CGTTG', 'CGTGA', 'CGTGC', 'CGTGT', 'CGTGG', 'CGGAA', 'CGGAC', 'CGGAT', 'CGGAG', 'CGGCA', 'CGGCC', 'CGGCT', 'CGGCG', 'CGGTA', 'CGGTC', 'CGGTT', 'CGGTG', 'CGGGA', 'CGGGC', 'CGGGT', 'CGGGG', 'TAAAA', 'TAAAC', 'TAAAT', 'TAAAG', 'TAACA', 'TAACC', 'TAACT', 'TAACG', 'TAATA', 'TAATC', 'TAATT', 'TAATG', 'TAAGA', 'TAAGC', 'TAAGT', 'TAAGG', 'TACAA', 'TACAC', 'TACAT', 'TACAG', 'TACCA', 'TACCC', 'TACCT', 'TACCG', 'TACTA', 'TACTC', 'TACTT', 'TACTG', 'TACGA', 'TACGC', 'TACGT', 'TACGG', 'TATAA', 'TATAC', 'TATAT', 'TATAG', 'TATCA', 'TATCC', 'TATCT', 'TATCG', 'TATTA', 'TATTC', 'TATTT', 'TATTG', 'TATGA', 'TATGC', 'TATGT', 'TATGG', 'TAGAA', 'TAGAC', 'TAGAT', 'TAGAG', 'TAGCA', 'TAGCC', 'TAGCT', 'TAGCG', 'TAGTA', 'TAGTC', 'TAGTT', 'TAGTG', 'TAGGA', 'TAGGC', 'TAGGT', 'TAGGG', 'TCAAA', 'TCAAC', 'TCAAT', 'TCAAG', 'TCACA', 'TCACC', 'TCACT', 'TCACG', 'TCATA', 'TCATC', 'TCATT', 'TCATG', 'TCAGA', 'TCAGC', 'TCAGT', 'TCAGG', 'TCCAA', 'TCCAC', 'TCCAT', 'TCCAG', 'TCCCA', 'TCCCC', 'TCCCT', 'TCCCG', 'TCCTA', 'TCCTC', 'TCCTT', 'TCCTG', 'TCCGA', 'TCCGC', 'TCCGT', 'TCCGG', 'TCTAA', 'TCTAC', 'TCTAT', 'TCTAG', 'TCTCA', 'TCTCC', 'TCTCT', 'TCTCG', 'TCTTA', 'TCTTC', 'TCTTT', 'TCTTG', 'TCTGA', 'TCTGC', 'TCTGT', 'TCTGG', 'TCGAA', 'TCGAC', 'TCGAT', 'TCGAG', 'TCGCA', 'TCGCC', 'TCGCT', 'TCGCG', 'TCGTA', 'TCGTC', 'TCGTT', 'TCGTG', 'TCGGA', 'TCGGC', 'TCGGT', 'TCGGG', 'TTAAA', 'TTAAC', 'TTAAT', 'TTAAG', 'TTACA', 'TTACC', 'TTACT', 'TTACG', 'TTATA', 'TTATC', 'TTATT', 'TTATG', 'TTAGA', 'TTAGC', 'TTAGT', 'TTAGG', 'TTCAA', 'TTCAC', 'TTCAT', 'TTCAG', 'TTCCA', 'TTCCC', 'TTCCT', 'TTCCG', 'TTCTA', 'TTCTC', 'TTCTT', 'TTCTG', 'TTCGA', 'TTCGC', 'TTCGT', 'TTCGG', 'TTTAA', 'TTTAC', 'TTTAT', 'TTTAG', 'TTTCA', 'TTTCC', 'TTTCT', 'TTTCG', 'TTTTA', 'TTTTC', 'TTTTT', 'TTTTG', 'TTTGA', 'TTTGC', 'TTTGT', 'TTTGG', 'TTGAA', 'TTGAC', 'TTGAT', 'TTGAG', 'TTGCA', 'TTGCC', 'TTGCT', 'TTGCG', 'TTGTA', 'TTGTC', 'TTGTT', 'TTGTG', 'TTGGA', 'TTGGC', 'TTGGT', 'TTGGG', 'TGAAA', 'TGAAC', 'TGAAT', 'TGAAG', 'TGACA', 'TGACC', 'TGACT', 'TGACG', 'TGATA', 'TGATC', 'TGATT', 'TGATG', 'TGAGA', 'TGAGC', 'TGAGT', 'TGAGG', 'TGCAA', 'TGCAC', 'TGCAT', 'TGCAG', 'TGCCA', 'TGCCC', 'TGCCT', 'TGCCG', 'TGCTA', 'TGCTC', 'TGCTT', 'TGCTG', 'TGCGA', 'TGCGC', 'TGCGT', 'TGCGG', 'TGTAA', 'TGTAC', 'TGTAT', 'TGTAG', 'TGTCA', 'TGTCC', 'TGTCT', 'TGTCG', 'TGTTA', 'TGTTC', 'TGTTT', 'TGTTG', 'TGTGA', 'TGTGC', 'TGTGT', 'TGTGG', 'TGGAA', 'TGGAC', 'TGGAT', 'TGGAG', 'TGGCA', 'TGGCC', 'TGGCT', 'TGGCG', 'TGGTA', 'TGGTC', 'TGGTT', 'TGGTG', 'TGGGA', 'TGGGC', 'TGGGT', 'TGGGG', 'GAAAA', 'GAAAC', 'GAAAT', 'GAAAG', 'GAACA', 'GAACC', 'GAACT', 'GAACG', 'GAATA', 'GAATC', 'GAATT', 'GAATG', 'GAAGA', 'GAAGC', 'GAAGT', 'GAAGG', 'GACAA', 'GACAC', 'GACAT', 'GACAG', 'GACCA', 'GACCC', 'GACCT', 'GACCG', 'GACTA', 'GACTC', 'GACTT', 'GACTG', 'GACGA', 'GACGC', 'GACGT', 'GACGG', 'GATAA', 'GATAC', 'GATAT', 'GATAG', 'GATCA', 'GATCC', 'GATCT', 'GATCG', 'GATTA', 'GATTC', 'GATTT', 'GATTG', 'GATGA', 'GATGC', 'GATGT', 'GATGG', 'GAGAA', 'GAGAC', 'GAGAT', 'GAGAG', 'GAGCA', 'GAGCC', 'GAGCT', 'GAGCG', 'GAGTA', 'GAGTC', 'GAGTT', 'GAGTG', 'GAGGA', 'GAGGC', 'GAGGT', 'GAGGG', 'GCAAA', 'GCAAC', 'GCAAT', 'GCAAG', 'GCACA', 'GCACC', 'GCACT', 'GCACG', 'GCATA', 'GCATC', 'GCATT', 'GCATG', 'GCAGA', 'GCAGC', 'GCAGT', 'GCAGG', 'GCCAA', 'GCCAC', 'GCCAT', 'GCCAG', 'GCCCA', 'GCCCC', 'GCCCT', 'GCCCG', 'GCCTA', 'GCCTC', 'GCCTT', 'GCCTG', 'GCCGA', 'GCCGC', 'GCCGT', 'GCCGG', 'GCTAA', 'GCTAC', 'GCTAT', 'GCTAG', 'GCTCA', 'GCTCC', 'GCTCT', 'GCTCG', 'GCTTA', 'GCTTC', 'GCTTT', 'GCTTG', 'GCTGA', 'GCTGC', 'GCTGT', 'GCTGG', 'GCGAA', 'GCGAC', 'GCGAT', 'GCGAG', 'GCGCA', 'GCGCC', 'GCGCT', 'GCGCG', 'GCGTA', 'GCGTC', 'GCGTT', 'GCGTG', 'GCGGA', 'GCGGC', 'GCGGT', 'GCGGG', 'GTAAA', 'GTAAC', 'GTAAT', 'GTAAG', 'GTACA', 'GTACC', 'GTACT', 'GTACG', 'GTATA', 'GTATC', 'GTATT', 'GTATG', 'GTAGA', 'GTAGC', 'GTAGT', 'GTAGG', 'GTCAA', 'GTCAC', 'GTCAT', 'GTCAG', 'GTCCA', 'GTCCC', 'GTCCT', 'GTCCG', 'GTCTA', 'GTCTC', 'GTCTT', 'GTCTG', 'GTCGA', 'GTCGC', 'GTCGT', 'GTCGG', 'GTTAA', 'GTTAC', 'GTTAT', 'GTTAG', 'GTTCA', 'GTTCC', 'GTTCT', 'GTTCG', 'GTTTA', 'GTTTC', 'GTTTT', 'GTTTG', 'GTTGA', 'GTTGC', 'GTTGT', 'GTTGG', 'GTGAA', 'GTGAC', 'GTGAT', 'GTGAG', 'GTGCA', 'GTGCC', 'GTGCT', 'GTGCG', 'GTGTA', 'GTGTC', 'GTGTT', 'GTGTG', 'GTGGA', 'GTGGC', 'GTGGT', 'GTGGG', 'GGAAA', 'GGAAC', 'GGAAT', 'GGAAG', 'GGACA', 'GGACC', 'GGACT', 'GGACG', 'GGATA', 'GGATC', 'GGATT', 'GGATG', 'GGAGA', 'GGAGC', 'GGAGT', 'GGAGG', 'GGCAA', 'GGCAC', 'GGCAT', 'GGCAG', 'GGCCA', 'GGCCC', 'GGCCT', 'GGCCG', 'GGCTA', 'GGCTC', 'GGCTT', 'GGCTG', 'GGCGA', 'GGCGC', 'GGCGT', 'GGCGG', 'GGTAA', 'GGTAC', 'GGTAT', 'GGTAG', 'GGTCA', 'GGTCC', 'GGTCT', 'GGTCG', 'GGTTA', 'GGTTC', 'GGTTT', 'GGTTG', 'GGTGA', 'GGTGC', 'GGTGT', 'GGTGG', 'GGGAA', 'GGGAC', 'GGGAT', 'GGGAG', 'GGGCA', 'GGGCC', 'GGGCT', 'GGGCG', 'GGGTA', 'GGGTC', 'GGGTT', 'GGGTG', 'GGGGA', 'GGGGC', 'GGGGT', 'GGGGG']\n",
            "Size:  4096\n",
            "['AAAAAA', 'AAAAAC', 'AAAAAT', 'AAAAAG', 'AAAACA', 'AAAACC', 'AAAACT', 'AAAACG', 'AAAATA', 'AAAATC', 'AAAATT', 'AAAATG', 'AAAAGA', 'AAAAGC', 'AAAAGT', 'AAAAGG', 'AAACAA', 'AAACAC', 'AAACAT', 'AAACAG', 'AAACCA', 'AAACCC', 'AAACCT', 'AAACCG', 'AAACTA', 'AAACTC', 'AAACTT', 'AAACTG', 'AAACGA', 'AAACGC', 'AAACGT', 'AAACGG', 'AAATAA', 'AAATAC', 'AAATAT', 'AAATAG', 'AAATCA', 'AAATCC', 'AAATCT', 'AAATCG', 'AAATTA', 'AAATTC', 'AAATTT', 'AAATTG', 'AAATGA', 'AAATGC', 'AAATGT', 'AAATGG', 'AAAGAA', 'AAAGAC', 'AAAGAT', 'AAAGAG', 'AAAGCA', 'AAAGCC', 'AAAGCT', 'AAAGCG', 'AAAGTA', 'AAAGTC', 'AAAGTT', 'AAAGTG', 'AAAGGA', 'AAAGGC', 'AAAGGT', 'AAAGGG', 'AACAAA', 'AACAAC', 'AACAAT', 'AACAAG', 'AACACA', 'AACACC', 'AACACT', 'AACACG', 'AACATA', 'AACATC', 'AACATT', 'AACATG', 'AACAGA', 'AACAGC', 'AACAGT', 'AACAGG', 'AACCAA', 'AACCAC', 'AACCAT', 'AACCAG', 'AACCCA', 'AACCCC', 'AACCCT', 'AACCCG', 'AACCTA', 'AACCTC', 'AACCTT', 'AACCTG', 'AACCGA', 'AACCGC', 'AACCGT', 'AACCGG', 'AACTAA', 'AACTAC', 'AACTAT', 'AACTAG', 'AACTCA', 'AACTCC', 'AACTCT', 'AACTCG', 'AACTTA', 'AACTTC', 'AACTTT', 'AACTTG', 'AACTGA', 'AACTGC', 'AACTGT', 'AACTGG', 'AACGAA', 'AACGAC', 'AACGAT', 'AACGAG', 'AACGCA', 'AACGCC', 'AACGCT', 'AACGCG', 'AACGTA', 'AACGTC', 'AACGTT', 'AACGTG', 'AACGGA', 'AACGGC', 'AACGGT', 'AACGGG', 'AATAAA', 'AATAAC', 'AATAAT', 'AATAAG', 'AATACA', 'AATACC', 'AATACT', 'AATACG', 'AATATA', 'AATATC', 'AATATT', 'AATATG', 'AATAGA', 'AATAGC', 'AATAGT', 'AATAGG', 'AATCAA', 'AATCAC', 'AATCAT', 'AATCAG', 'AATCCA', 'AATCCC', 'AATCCT', 'AATCCG', 'AATCTA', 'AATCTC', 'AATCTT', 'AATCTG', 'AATCGA', 'AATCGC', 'AATCGT', 'AATCGG', 'AATTAA', 'AATTAC', 'AATTAT', 'AATTAG', 'AATTCA', 'AATTCC', 'AATTCT', 'AATTCG', 'AATTTA', 'AATTTC', 'AATTTT', 'AATTTG', 'AATTGA', 'AATTGC', 'AATTGT', 'AATTGG', 'AATGAA', 'AATGAC', 'AATGAT', 'AATGAG', 'AATGCA', 'AATGCC', 'AATGCT', 'AATGCG', 'AATGTA', 'AATGTC', 'AATGTT', 'AATGTG', 'AATGGA', 'AATGGC', 'AATGGT', 'AATGGG', 'AAGAAA', 'AAGAAC', 'AAGAAT', 'AAGAAG', 'AAGACA', 'AAGACC', 'AAGACT', 'AAGACG', 'AAGATA', 'AAGATC', 'AAGATT', 'AAGATG', 'AAGAGA', 'AAGAGC', 'AAGAGT', 'AAGAGG', 'AAGCAA', 'AAGCAC', 'AAGCAT', 'AAGCAG', 'AAGCCA', 'AAGCCC', 'AAGCCT', 'AAGCCG', 'AAGCTA', 'AAGCTC', 'AAGCTT', 'AAGCTG', 'AAGCGA', 'AAGCGC', 'AAGCGT', 'AAGCGG', 'AAGTAA', 'AAGTAC', 'AAGTAT', 'AAGTAG', 'AAGTCA', 'AAGTCC', 'AAGTCT', 'AAGTCG', 'AAGTTA', 'AAGTTC', 'AAGTTT', 'AAGTTG', 'AAGTGA', 'AAGTGC', 'AAGTGT', 'AAGTGG', 'AAGGAA', 'AAGGAC', 'AAGGAT', 'AAGGAG', 'AAGGCA', 'AAGGCC', 'AAGGCT', 'AAGGCG', 'AAGGTA', 'AAGGTC', 'AAGGTT', 'AAGGTG', 'AAGGGA', 'AAGGGC', 'AAGGGT', 'AAGGGG', 'ACAAAA', 'ACAAAC', 'ACAAAT', 'ACAAAG', 'ACAACA', 'ACAACC', 'ACAACT', 'ACAACG', 'ACAATA', 'ACAATC', 'ACAATT', 'ACAATG', 'ACAAGA', 'ACAAGC', 'ACAAGT', 'ACAAGG', 'ACACAA', 'ACACAC', 'ACACAT', 'ACACAG', 'ACACCA', 'ACACCC', 'ACACCT', 'ACACCG', 'ACACTA', 'ACACTC', 'ACACTT', 'ACACTG', 'ACACGA', 'ACACGC', 'ACACGT', 'ACACGG', 'ACATAA', 'ACATAC', 'ACATAT', 'ACATAG', 'ACATCA', 'ACATCC', 'ACATCT', 'ACATCG', 'ACATTA', 'ACATTC', 'ACATTT', 'ACATTG', 'ACATGA', 'ACATGC', 'ACATGT', 'ACATGG', 'ACAGAA', 'ACAGAC', 'ACAGAT', 'ACAGAG', 'ACAGCA', 'ACAGCC', 'ACAGCT', 'ACAGCG', 'ACAGTA', 'ACAGTC', 'ACAGTT', 'ACAGTG', 'ACAGGA', 'ACAGGC', 'ACAGGT', 'ACAGGG', 'ACCAAA', 'ACCAAC', 'ACCAAT', 'ACCAAG', 'ACCACA', 'ACCACC', 'ACCACT', 'ACCACG', 'ACCATA', 'ACCATC', 'ACCATT', 'ACCATG', 'ACCAGA', 'ACCAGC', 'ACCAGT', 'ACCAGG', 'ACCCAA', 'ACCCAC', 'ACCCAT', 'ACCCAG', 'ACCCCA', 'ACCCCC', 'ACCCCT', 'ACCCCG', 'ACCCTA', 'ACCCTC', 'ACCCTT', 'ACCCTG', 'ACCCGA', 'ACCCGC', 'ACCCGT', 'ACCCGG', 'ACCTAA', 'ACCTAC', 'ACCTAT', 'ACCTAG', 'ACCTCA', 'ACCTCC', 'ACCTCT', 'ACCTCG', 'ACCTTA', 'ACCTTC', 'ACCTTT', 'ACCTTG', 'ACCTGA', 'ACCTGC', 'ACCTGT', 'ACCTGG', 'ACCGAA', 'ACCGAC', 'ACCGAT', 'ACCGAG', 'ACCGCA', 'ACCGCC', 'ACCGCT', 'ACCGCG', 'ACCGTA', 'ACCGTC', 'ACCGTT', 'ACCGTG', 'ACCGGA', 'ACCGGC', 'ACCGGT', 'ACCGGG', 'ACTAAA', 'ACTAAC', 'ACTAAT', 'ACTAAG', 'ACTACA', 'ACTACC', 'ACTACT', 'ACTACG', 'ACTATA', 'ACTATC', 'ACTATT', 'ACTATG', 'ACTAGA', 'ACTAGC', 'ACTAGT', 'ACTAGG', 'ACTCAA', 'ACTCAC', 'ACTCAT', 'ACTCAG', 'ACTCCA', 'ACTCCC', 'ACTCCT', 'ACTCCG', 'ACTCTA', 'ACTCTC', 'ACTCTT', 'ACTCTG', 'ACTCGA', 'ACTCGC', 'ACTCGT', 'ACTCGG', 'ACTTAA', 'ACTTAC', 'ACTTAT', 'ACTTAG', 'ACTTCA', 'ACTTCC', 'ACTTCT', 'ACTTCG', 'ACTTTA', 'ACTTTC', 'ACTTTT', 'ACTTTG', 'ACTTGA', 'ACTTGC', 'ACTTGT', 'ACTTGG', 'ACTGAA', 'ACTGAC', 'ACTGAT', 'ACTGAG', 'ACTGCA', 'ACTGCC', 'ACTGCT', 'ACTGCG', 'ACTGTA', 'ACTGTC', 'ACTGTT', 'ACTGTG', 'ACTGGA', 'ACTGGC', 'ACTGGT', 'ACTGGG', 'ACGAAA', 'ACGAAC', 'ACGAAT', 'ACGAAG', 'ACGACA', 'ACGACC', 'ACGACT', 'ACGACG', 'ACGATA', 'ACGATC', 'ACGATT', 'ACGATG', 'ACGAGA', 'ACGAGC', 'ACGAGT', 'ACGAGG', 'ACGCAA', 'ACGCAC', 'ACGCAT', 'ACGCAG', 'ACGCCA', 'ACGCCC', 'ACGCCT', 'ACGCCG', 'ACGCTA', 'ACGCTC', 'ACGCTT', 'ACGCTG', 'ACGCGA', 'ACGCGC', 'ACGCGT', 'ACGCGG', 'ACGTAA', 'ACGTAC', 'ACGTAT', 'ACGTAG', 'ACGTCA', 'ACGTCC', 'ACGTCT', 'ACGTCG', 'ACGTTA', 'ACGTTC', 'ACGTTT', 'ACGTTG', 'ACGTGA', 'ACGTGC', 'ACGTGT', 'ACGTGG', 'ACGGAA', 'ACGGAC', 'ACGGAT', 'ACGGAG', 'ACGGCA', 'ACGGCC', 'ACGGCT', 'ACGGCG', 'ACGGTA', 'ACGGTC', 'ACGGTT', 'ACGGTG', 'ACGGGA', 'ACGGGC', 'ACGGGT', 'ACGGGG', 'ATAAAA', 'ATAAAC', 'ATAAAT', 'ATAAAG', 'ATAACA', 'ATAACC', 'ATAACT', 'ATAACG', 'ATAATA', 'ATAATC', 'ATAATT', 'ATAATG', 'ATAAGA', 'ATAAGC', 'ATAAGT', 'ATAAGG', 'ATACAA', 'ATACAC', 'ATACAT', 'ATACAG', 'ATACCA', 'ATACCC', 'ATACCT', 'ATACCG', 'ATACTA', 'ATACTC', 'ATACTT', 'ATACTG', 'ATACGA', 'ATACGC', 'ATACGT', 'ATACGG', 'ATATAA', 'ATATAC', 'ATATAT', 'ATATAG', 'ATATCA', 'ATATCC', 'ATATCT', 'ATATCG', 'ATATTA', 'ATATTC', 'ATATTT', 'ATATTG', 'ATATGA', 'ATATGC', 'ATATGT', 'ATATGG', 'ATAGAA', 'ATAGAC', 'ATAGAT', 'ATAGAG', 'ATAGCA', 'ATAGCC', 'ATAGCT', 'ATAGCG', 'ATAGTA', 'ATAGTC', 'ATAGTT', 'ATAGTG', 'ATAGGA', 'ATAGGC', 'ATAGGT', 'ATAGGG', 'ATCAAA', 'ATCAAC', 'ATCAAT', 'ATCAAG', 'ATCACA', 'ATCACC', 'ATCACT', 'ATCACG', 'ATCATA', 'ATCATC', 'ATCATT', 'ATCATG', 'ATCAGA', 'ATCAGC', 'ATCAGT', 'ATCAGG', 'ATCCAA', 'ATCCAC', 'ATCCAT', 'ATCCAG', 'ATCCCA', 'ATCCCC', 'ATCCCT', 'ATCCCG', 'ATCCTA', 'ATCCTC', 'ATCCTT', 'ATCCTG', 'ATCCGA', 'ATCCGC', 'ATCCGT', 'ATCCGG', 'ATCTAA', 'ATCTAC', 'ATCTAT', 'ATCTAG', 'ATCTCA', 'ATCTCC', 'ATCTCT', 'ATCTCG', 'ATCTTA', 'ATCTTC', 'ATCTTT', 'ATCTTG', 'ATCTGA', 'ATCTGC', 'ATCTGT', 'ATCTGG', 'ATCGAA', 'ATCGAC', 'ATCGAT', 'ATCGAG', 'ATCGCA', 'ATCGCC', 'ATCGCT', 'ATCGCG', 'ATCGTA', 'ATCGTC', 'ATCGTT', 'ATCGTG', 'ATCGGA', 'ATCGGC', 'ATCGGT', 'ATCGGG', 'ATTAAA', 'ATTAAC', 'ATTAAT', 'ATTAAG', 'ATTACA', 'ATTACC', 'ATTACT', 'ATTACG', 'ATTATA', 'ATTATC', 'ATTATT', 'ATTATG', 'ATTAGA', 'ATTAGC', 'ATTAGT', 'ATTAGG', 'ATTCAA', 'ATTCAC', 'ATTCAT', 'ATTCAG', 'ATTCCA', 'ATTCCC', 'ATTCCT', 'ATTCCG', 'ATTCTA', 'ATTCTC', 'ATTCTT', 'ATTCTG', 'ATTCGA', 'ATTCGC', 'ATTCGT', 'ATTCGG', 'ATTTAA', 'ATTTAC', 'ATTTAT', 'ATTTAG', 'ATTTCA', 'ATTTCC', 'ATTTCT', 'ATTTCG', 'ATTTTA', 'ATTTTC', 'ATTTTT', 'ATTTTG', 'ATTTGA', 'ATTTGC', 'ATTTGT', 'ATTTGG', 'ATTGAA', 'ATTGAC', 'ATTGAT', 'ATTGAG', 'ATTGCA', 'ATTGCC', 'ATTGCT', 'ATTGCG', 'ATTGTA', 'ATTGTC', 'ATTGTT', 'ATTGTG', 'ATTGGA', 'ATTGGC', 'ATTGGT', 'ATTGGG', 'ATGAAA', 'ATGAAC', 'ATGAAT', 'ATGAAG', 'ATGACA', 'ATGACC', 'ATGACT', 'ATGACG', 'ATGATA', 'ATGATC', 'ATGATT', 'ATGATG', 'ATGAGA', 'ATGAGC', 'ATGAGT', 'ATGAGG', 'ATGCAA', 'ATGCAC', 'ATGCAT', 'ATGCAG', 'ATGCCA', 'ATGCCC', 'ATGCCT', 'ATGCCG', 'ATGCTA', 'ATGCTC', 'ATGCTT', 'ATGCTG', 'ATGCGA', 'ATGCGC', 'ATGCGT', 'ATGCGG', 'ATGTAA', 'ATGTAC', 'ATGTAT', 'ATGTAG', 'ATGTCA', 'ATGTCC', 'ATGTCT', 'ATGTCG', 'ATGTTA', 'ATGTTC', 'ATGTTT', 'ATGTTG', 'ATGTGA', 'ATGTGC', 'ATGTGT', 'ATGTGG', 'ATGGAA', 'ATGGAC', 'ATGGAT', 'ATGGAG', 'ATGGCA', 'ATGGCC', 'ATGGCT', 'ATGGCG', 'ATGGTA', 'ATGGTC', 'ATGGTT', 'ATGGTG', 'ATGGGA', 'ATGGGC', 'ATGGGT', 'ATGGGG', 'AGAAAA', 'AGAAAC', 'AGAAAT', 'AGAAAG', 'AGAACA', 'AGAACC', 'AGAACT', 'AGAACG', 'AGAATA', 'AGAATC', 'AGAATT', 'AGAATG', 'AGAAGA', 'AGAAGC', 'AGAAGT', 'AGAAGG', 'AGACAA', 'AGACAC', 'AGACAT', 'AGACAG', 'AGACCA', 'AGACCC', 'AGACCT', 'AGACCG', 'AGACTA', 'AGACTC', 'AGACTT', 'AGACTG', 'AGACGA', 'AGACGC', 'AGACGT', 'AGACGG', 'AGATAA', 'AGATAC', 'AGATAT', 'AGATAG', 'AGATCA', 'AGATCC', 'AGATCT', 'AGATCG', 'AGATTA', 'AGATTC', 'AGATTT', 'AGATTG', 'AGATGA', 'AGATGC', 'AGATGT', 'AGATGG', 'AGAGAA', 'AGAGAC', 'AGAGAT', 'AGAGAG', 'AGAGCA', 'AGAGCC', 'AGAGCT', 'AGAGCG', 'AGAGTA', 'AGAGTC', 'AGAGTT', 'AGAGTG', 'AGAGGA', 'AGAGGC', 'AGAGGT', 'AGAGGG', 'AGCAAA', 'AGCAAC', 'AGCAAT', 'AGCAAG', 'AGCACA', 'AGCACC', 'AGCACT', 'AGCACG', 'AGCATA', 'AGCATC', 'AGCATT', 'AGCATG', 'AGCAGA', 'AGCAGC', 'AGCAGT', 'AGCAGG', 'AGCCAA', 'AGCCAC', 'AGCCAT', 'AGCCAG', 'AGCCCA', 'AGCCCC', 'AGCCCT', 'AGCCCG', 'AGCCTA', 'AGCCTC', 'AGCCTT', 'AGCCTG', 'AGCCGA', 'AGCCGC', 'AGCCGT', 'AGCCGG', 'AGCTAA', 'AGCTAC', 'AGCTAT', 'AGCTAG', 'AGCTCA', 'AGCTCC', 'AGCTCT', 'AGCTCG', 'AGCTTA', 'AGCTTC', 'AGCTTT', 'AGCTTG', 'AGCTGA', 'AGCTGC', 'AGCTGT', 'AGCTGG', 'AGCGAA', 'AGCGAC', 'AGCGAT', 'AGCGAG', 'AGCGCA', 'AGCGCC', 'AGCGCT', 'AGCGCG', 'AGCGTA', 'AGCGTC', 'AGCGTT', 'AGCGTG', 'AGCGGA', 'AGCGGC', 'AGCGGT', 'AGCGGG', 'AGTAAA', 'AGTAAC', 'AGTAAT', 'AGTAAG', 'AGTACA', 'AGTACC', 'AGTACT', 'AGTACG', 'AGTATA', 'AGTATC', 'AGTATT', 'AGTATG', 'AGTAGA', 'AGTAGC', 'AGTAGT', 'AGTAGG', 'AGTCAA', 'AGTCAC', 'AGTCAT', 'AGTCAG', 'AGTCCA', 'AGTCCC', 'AGTCCT', 'AGTCCG', 'AGTCTA', 'AGTCTC', 'AGTCTT', 'AGTCTG', 'AGTCGA', 'AGTCGC', 'AGTCGT', 'AGTCGG', 'AGTTAA', 'AGTTAC', 'AGTTAT', 'AGTTAG', 'AGTTCA', 'AGTTCC', 'AGTTCT', 'AGTTCG', 'AGTTTA', 'AGTTTC', 'AGTTTT', 'AGTTTG', 'AGTTGA', 'AGTTGC', 'AGTTGT', 'AGTTGG', 'AGTGAA', 'AGTGAC', 'AGTGAT', 'AGTGAG', 'AGTGCA', 'AGTGCC', 'AGTGCT', 'AGTGCG', 'AGTGTA', 'AGTGTC', 'AGTGTT', 'AGTGTG', 'AGTGGA', 'AGTGGC', 'AGTGGT', 'AGTGGG', 'AGGAAA', 'AGGAAC', 'AGGAAT', 'AGGAAG', 'AGGACA', 'AGGACC', 'AGGACT', 'AGGACG', 'AGGATA', 'AGGATC', 'AGGATT', 'AGGATG', 'AGGAGA', 'AGGAGC', 'AGGAGT', 'AGGAGG', 'AGGCAA', 'AGGCAC', 'AGGCAT', 'AGGCAG', 'AGGCCA', 'AGGCCC', 'AGGCCT', 'AGGCCG', 'AGGCTA', 'AGGCTC', 'AGGCTT', 'AGGCTG', 'AGGCGA', 'AGGCGC', 'AGGCGT', 'AGGCGG', 'AGGTAA', 'AGGTAC', 'AGGTAT', 'AGGTAG', 'AGGTCA', 'AGGTCC', 'AGGTCT', 'AGGTCG', 'AGGTTA', 'AGGTTC', 'AGGTTT', 'AGGTTG', 'AGGTGA', 'AGGTGC', 'AGGTGT', 'AGGTGG', 'AGGGAA', 'AGGGAC', 'AGGGAT', 'AGGGAG', 'AGGGCA', 'AGGGCC', 'AGGGCT', 'AGGGCG', 'AGGGTA', 'AGGGTC', 'AGGGTT', 'AGGGTG', 'AGGGGA', 'AGGGGC', 'AGGGGT', 'AGGGGG', 'CAAAAA', 'CAAAAC', 'CAAAAT', 'CAAAAG', 'CAAACA', 'CAAACC', 'CAAACT', 'CAAACG', 'CAAATA', 'CAAATC', 'CAAATT', 'CAAATG', 'CAAAGA', 'CAAAGC', 'CAAAGT', 'CAAAGG', 'CAACAA', 'CAACAC', 'CAACAT', 'CAACAG', 'CAACCA', 'CAACCC', 'CAACCT', 'CAACCG', 'CAACTA', 'CAACTC', 'CAACTT', 'CAACTG', 'CAACGA', 'CAACGC', 'CAACGT', 'CAACGG', 'CAATAA', 'CAATAC', 'CAATAT', 'CAATAG', 'CAATCA', 'CAATCC', 'CAATCT', 'CAATCG', 'CAATTA', 'CAATTC', 'CAATTT', 'CAATTG', 'CAATGA', 'CAATGC', 'CAATGT', 'CAATGG', 'CAAGAA', 'CAAGAC', 'CAAGAT', 'CAAGAG', 'CAAGCA', 'CAAGCC', 'CAAGCT', 'CAAGCG', 'CAAGTA', 'CAAGTC', 'CAAGTT', 'CAAGTG', 'CAAGGA', 'CAAGGC', 'CAAGGT', 'CAAGGG', 'CACAAA', 'CACAAC', 'CACAAT', 'CACAAG', 'CACACA', 'CACACC', 'CACACT', 'CACACG', 'CACATA', 'CACATC', 'CACATT', 'CACATG', 'CACAGA', 'CACAGC', 'CACAGT', 'CACAGG', 'CACCAA', 'CACCAC', 'CACCAT', 'CACCAG', 'CACCCA', 'CACCCC', 'CACCCT', 'CACCCG', 'CACCTA', 'CACCTC', 'CACCTT', 'CACCTG', 'CACCGA', 'CACCGC', 'CACCGT', 'CACCGG', 'CACTAA', 'CACTAC', 'CACTAT', 'CACTAG', 'CACTCA', 'CACTCC', 'CACTCT', 'CACTCG', 'CACTTA', 'CACTTC', 'CACTTT', 'CACTTG', 'CACTGA', 'CACTGC', 'CACTGT', 'CACTGG', 'CACGAA', 'CACGAC', 'CACGAT', 'CACGAG', 'CACGCA', 'CACGCC', 'CACGCT', 'CACGCG', 'CACGTA', 'CACGTC', 'CACGTT', 'CACGTG', 'CACGGA', 'CACGGC', 'CACGGT', 'CACGGG', 'CATAAA', 'CATAAC', 'CATAAT', 'CATAAG', 'CATACA', 'CATACC', 'CATACT', 'CATACG', 'CATATA', 'CATATC', 'CATATT', 'CATATG', 'CATAGA', 'CATAGC', 'CATAGT', 'CATAGG', 'CATCAA', 'CATCAC', 'CATCAT', 'CATCAG', 'CATCCA', 'CATCCC', 'CATCCT', 'CATCCG', 'CATCTA', 'CATCTC', 'CATCTT', 'CATCTG', 'CATCGA', 'CATCGC', 'CATCGT', 'CATCGG', 'CATTAA', 'CATTAC', 'CATTAT', 'CATTAG', 'CATTCA', 'CATTCC', 'CATTCT', 'CATTCG', 'CATTTA', 'CATTTC', 'CATTTT', 'CATTTG', 'CATTGA', 'CATTGC', 'CATTGT', 'CATTGG', 'CATGAA', 'CATGAC', 'CATGAT', 'CATGAG', 'CATGCA', 'CATGCC', 'CATGCT', 'CATGCG', 'CATGTA', 'CATGTC', 'CATGTT', 'CATGTG', 'CATGGA', 'CATGGC', 'CATGGT', 'CATGGG', 'CAGAAA', 'CAGAAC', 'CAGAAT', 'CAGAAG', 'CAGACA', 'CAGACC', 'CAGACT', 'CAGACG', 'CAGATA', 'CAGATC', 'CAGATT', 'CAGATG', 'CAGAGA', 'CAGAGC', 'CAGAGT', 'CAGAGG', 'CAGCAA', 'CAGCAC', 'CAGCAT', 'CAGCAG', 'CAGCCA', 'CAGCCC', 'CAGCCT', 'CAGCCG', 'CAGCTA', 'CAGCTC', 'CAGCTT', 'CAGCTG', 'CAGCGA', 'CAGCGC', 'CAGCGT', 'CAGCGG', 'CAGTAA', 'CAGTAC', 'CAGTAT', 'CAGTAG', 'CAGTCA', 'CAGTCC', 'CAGTCT', 'CAGTCG', 'CAGTTA', 'CAGTTC', 'CAGTTT', 'CAGTTG', 'CAGTGA', 'CAGTGC', 'CAGTGT', 'CAGTGG', 'CAGGAA', 'CAGGAC', 'CAGGAT', 'CAGGAG', 'CAGGCA', 'CAGGCC', 'CAGGCT', 'CAGGCG', 'CAGGTA', 'CAGGTC', 'CAGGTT', 'CAGGTG', 'CAGGGA', 'CAGGGC', 'CAGGGT', 'CAGGGG', 'CCAAAA', 'CCAAAC', 'CCAAAT', 'CCAAAG', 'CCAACA', 'CCAACC', 'CCAACT', 'CCAACG', 'CCAATA', 'CCAATC', 'CCAATT', 'CCAATG', 'CCAAGA', 'CCAAGC', 'CCAAGT', 'CCAAGG', 'CCACAA', 'CCACAC', 'CCACAT', 'CCACAG', 'CCACCA', 'CCACCC', 'CCACCT', 'CCACCG', 'CCACTA', 'CCACTC', 'CCACTT', 'CCACTG', 'CCACGA', 'CCACGC', 'CCACGT', 'CCACGG', 'CCATAA', 'CCATAC', 'CCATAT', 'CCATAG', 'CCATCA', 'CCATCC', 'CCATCT', 'CCATCG', 'CCATTA', 'CCATTC', 'CCATTT', 'CCATTG', 'CCATGA', 'CCATGC', 'CCATGT', 'CCATGG', 'CCAGAA', 'CCAGAC', 'CCAGAT', 'CCAGAG', 'CCAGCA', 'CCAGCC', 'CCAGCT', 'CCAGCG', 'CCAGTA', 'CCAGTC', 'CCAGTT', 'CCAGTG', 'CCAGGA', 'CCAGGC', 'CCAGGT', 'CCAGGG', 'CCCAAA', 'CCCAAC', 'CCCAAT', 'CCCAAG', 'CCCACA', 'CCCACC', 'CCCACT', 'CCCACG', 'CCCATA', 'CCCATC', 'CCCATT', 'CCCATG', 'CCCAGA', 'CCCAGC', 'CCCAGT', 'CCCAGG', 'CCCCAA', 'CCCCAC', 'CCCCAT', 'CCCCAG', 'CCCCCA', 'CCCCCC', 'CCCCCT', 'CCCCCG', 'CCCCTA', 'CCCCTC', 'CCCCTT', 'CCCCTG', 'CCCCGA', 'CCCCGC', 'CCCCGT', 'CCCCGG', 'CCCTAA', 'CCCTAC', 'CCCTAT', 'CCCTAG', 'CCCTCA', 'CCCTCC', 'CCCTCT', 'CCCTCG', 'CCCTTA', 'CCCTTC', 'CCCTTT', 'CCCTTG', 'CCCTGA', 'CCCTGC', 'CCCTGT', 'CCCTGG', 'CCCGAA', 'CCCGAC', 'CCCGAT', 'CCCGAG', 'CCCGCA', 'CCCGCC', 'CCCGCT', 'CCCGCG', 'CCCGTA', 'CCCGTC', 'CCCGTT', 'CCCGTG', 'CCCGGA', 'CCCGGC', 'CCCGGT', 'CCCGGG', 'CCTAAA', 'CCTAAC', 'CCTAAT', 'CCTAAG', 'CCTACA', 'CCTACC', 'CCTACT', 'CCTACG', 'CCTATA', 'CCTATC', 'CCTATT', 'CCTATG', 'CCTAGA', 'CCTAGC', 'CCTAGT', 'CCTAGG', 'CCTCAA', 'CCTCAC', 'CCTCAT', 'CCTCAG', 'CCTCCA', 'CCTCCC', 'CCTCCT', 'CCTCCG', 'CCTCTA', 'CCTCTC', 'CCTCTT', 'CCTCTG', 'CCTCGA', 'CCTCGC', 'CCTCGT', 'CCTCGG', 'CCTTAA', 'CCTTAC', 'CCTTAT', 'CCTTAG', 'CCTTCA', 'CCTTCC', 'CCTTCT', 'CCTTCG', 'CCTTTA', 'CCTTTC', 'CCTTTT', 'CCTTTG', 'CCTTGA', 'CCTTGC', 'CCTTGT', 'CCTTGG', 'CCTGAA', 'CCTGAC', 'CCTGAT', 'CCTGAG', 'CCTGCA', 'CCTGCC', 'CCTGCT', 'CCTGCG', 'CCTGTA', 'CCTGTC', 'CCTGTT', 'CCTGTG', 'CCTGGA', 'CCTGGC', 'CCTGGT', 'CCTGGG', 'CCGAAA', 'CCGAAC', 'CCGAAT', 'CCGAAG', 'CCGACA', 'CCGACC', 'CCGACT', 'CCGACG', 'CCGATA', 'CCGATC', 'CCGATT', 'CCGATG', 'CCGAGA', 'CCGAGC', 'CCGAGT', 'CCGAGG', 'CCGCAA', 'CCGCAC', 'CCGCAT', 'CCGCAG', 'CCGCCA', 'CCGCCC', 'CCGCCT', 'CCGCCG', 'CCGCTA', 'CCGCTC', 'CCGCTT', 'CCGCTG', 'CCGCGA', 'CCGCGC', 'CCGCGT', 'CCGCGG', 'CCGTAA', 'CCGTAC', 'CCGTAT', 'CCGTAG', 'CCGTCA', 'CCGTCC', 'CCGTCT', 'CCGTCG', 'CCGTTA', 'CCGTTC', 'CCGTTT', 'CCGTTG', 'CCGTGA', 'CCGTGC', 'CCGTGT', 'CCGTGG', 'CCGGAA', 'CCGGAC', 'CCGGAT', 'CCGGAG', 'CCGGCA', 'CCGGCC', 'CCGGCT', 'CCGGCG', 'CCGGTA', 'CCGGTC', 'CCGGTT', 'CCGGTG', 'CCGGGA', 'CCGGGC', 'CCGGGT', 'CCGGGG', 'CTAAAA', 'CTAAAC', 'CTAAAT', 'CTAAAG', 'CTAACA', 'CTAACC', 'CTAACT', 'CTAACG', 'CTAATA', 'CTAATC', 'CTAATT', 'CTAATG', 'CTAAGA', 'CTAAGC', 'CTAAGT', 'CTAAGG', 'CTACAA', 'CTACAC', 'CTACAT', 'CTACAG', 'CTACCA', 'CTACCC', 'CTACCT', 'CTACCG', 'CTACTA', 'CTACTC', 'CTACTT', 'CTACTG', 'CTACGA', 'CTACGC', 'CTACGT', 'CTACGG', 'CTATAA', 'CTATAC', 'CTATAT', 'CTATAG', 'CTATCA', 'CTATCC', 'CTATCT', 'CTATCG', 'CTATTA', 'CTATTC', 'CTATTT', 'CTATTG', 'CTATGA', 'CTATGC', 'CTATGT', 'CTATGG', 'CTAGAA', 'CTAGAC', 'CTAGAT', 'CTAGAG', 'CTAGCA', 'CTAGCC', 'CTAGCT', 'CTAGCG', 'CTAGTA', 'CTAGTC', 'CTAGTT', 'CTAGTG', 'CTAGGA', 'CTAGGC', 'CTAGGT', 'CTAGGG', 'CTCAAA', 'CTCAAC', 'CTCAAT', 'CTCAAG', 'CTCACA', 'CTCACC', 'CTCACT', 'CTCACG', 'CTCATA', 'CTCATC', 'CTCATT', 'CTCATG', 'CTCAGA', 'CTCAGC', 'CTCAGT', 'CTCAGG', 'CTCCAA', 'CTCCAC', 'CTCCAT', 'CTCCAG', 'CTCCCA', 'CTCCCC', 'CTCCCT', 'CTCCCG', 'CTCCTA', 'CTCCTC', 'CTCCTT', 'CTCCTG', 'CTCCGA', 'CTCCGC', 'CTCCGT', 'CTCCGG', 'CTCTAA', 'CTCTAC', 'CTCTAT', 'CTCTAG', 'CTCTCA', 'CTCTCC', 'CTCTCT', 'CTCTCG', 'CTCTTA', 'CTCTTC', 'CTCTTT', 'CTCTTG', 'CTCTGA', 'CTCTGC', 'CTCTGT', 'CTCTGG', 'CTCGAA', 'CTCGAC', 'CTCGAT', 'CTCGAG', 'CTCGCA', 'CTCGCC', 'CTCGCT', 'CTCGCG', 'CTCGTA', 'CTCGTC', 'CTCGTT', 'CTCGTG', 'CTCGGA', 'CTCGGC', 'CTCGGT', 'CTCGGG', 'CTTAAA', 'CTTAAC', 'CTTAAT', 'CTTAAG', 'CTTACA', 'CTTACC', 'CTTACT', 'CTTACG', 'CTTATA', 'CTTATC', 'CTTATT', 'CTTATG', 'CTTAGA', 'CTTAGC', 'CTTAGT', 'CTTAGG', 'CTTCAA', 'CTTCAC', 'CTTCAT', 'CTTCAG', 'CTTCCA', 'CTTCCC', 'CTTCCT', 'CTTCCG', 'CTTCTA', 'CTTCTC', 'CTTCTT', 'CTTCTG', 'CTTCGA', 'CTTCGC', 'CTTCGT', 'CTTCGG', 'CTTTAA', 'CTTTAC', 'CTTTAT', 'CTTTAG', 'CTTTCA', 'CTTTCC', 'CTTTCT', 'CTTTCG', 'CTTTTA', 'CTTTTC', 'CTTTTT', 'CTTTTG', 'CTTTGA', 'CTTTGC', 'CTTTGT', 'CTTTGG', 'CTTGAA', 'CTTGAC', 'CTTGAT', 'CTTGAG', 'CTTGCA', 'CTTGCC', 'CTTGCT', 'CTTGCG', 'CTTGTA', 'CTTGTC', 'CTTGTT', 'CTTGTG', 'CTTGGA', 'CTTGGC', 'CTTGGT', 'CTTGGG', 'CTGAAA', 'CTGAAC', 'CTGAAT', 'CTGAAG', 'CTGACA', 'CTGACC', 'CTGACT', 'CTGACG', 'CTGATA', 'CTGATC', 'CTGATT', 'CTGATG', 'CTGAGA', 'CTGAGC', 'CTGAGT', 'CTGAGG', 'CTGCAA', 'CTGCAC', 'CTGCAT', 'CTGCAG', 'CTGCCA', 'CTGCCC', 'CTGCCT', 'CTGCCG', 'CTGCTA', 'CTGCTC', 'CTGCTT', 'CTGCTG', 'CTGCGA', 'CTGCGC', 'CTGCGT', 'CTGCGG', 'CTGTAA', 'CTGTAC', 'CTGTAT', 'CTGTAG', 'CTGTCA', 'CTGTCC', 'CTGTCT', 'CTGTCG', 'CTGTTA', 'CTGTTC', 'CTGTTT', 'CTGTTG', 'CTGTGA', 'CTGTGC', 'CTGTGT', 'CTGTGG', 'CTGGAA', 'CTGGAC', 'CTGGAT', 'CTGGAG', 'CTGGCA', 'CTGGCC', 'CTGGCT', 'CTGGCG', 'CTGGTA', 'CTGGTC', 'CTGGTT', 'CTGGTG', 'CTGGGA', 'CTGGGC', 'CTGGGT', 'CTGGGG', 'CGAAAA', 'CGAAAC', 'CGAAAT', 'CGAAAG', 'CGAACA', 'CGAACC', 'CGAACT', 'CGAACG', 'CGAATA', 'CGAATC', 'CGAATT', 'CGAATG', 'CGAAGA', 'CGAAGC', 'CGAAGT', 'CGAAGG', 'CGACAA', 'CGACAC', 'CGACAT', 'CGACAG', 'CGACCA', 'CGACCC', 'CGACCT', 'CGACCG', 'CGACTA', 'CGACTC', 'CGACTT', 'CGACTG', 'CGACGA', 'CGACGC', 'CGACGT', 'CGACGG', 'CGATAA', 'CGATAC', 'CGATAT', 'CGATAG', 'CGATCA', 'CGATCC', 'CGATCT', 'CGATCG', 'CGATTA', 'CGATTC', 'CGATTT', 'CGATTG', 'CGATGA', 'CGATGC', 'CGATGT', 'CGATGG', 'CGAGAA', 'CGAGAC', 'CGAGAT', 'CGAGAG', 'CGAGCA', 'CGAGCC', 'CGAGCT', 'CGAGCG', 'CGAGTA', 'CGAGTC', 'CGAGTT', 'CGAGTG', 'CGAGGA', 'CGAGGC', 'CGAGGT', 'CGAGGG', 'CGCAAA', 'CGCAAC', 'CGCAAT', 'CGCAAG', 'CGCACA', 'CGCACC', 'CGCACT', 'CGCACG', 'CGCATA', 'CGCATC', 'CGCATT', 'CGCATG', 'CGCAGA', 'CGCAGC', 'CGCAGT', 'CGCAGG', 'CGCCAA', 'CGCCAC', 'CGCCAT', 'CGCCAG', 'CGCCCA', 'CGCCCC', 'CGCCCT', 'CGCCCG', 'CGCCTA', 'CGCCTC', 'CGCCTT', 'CGCCTG', 'CGCCGA', 'CGCCGC', 'CGCCGT', 'CGCCGG', 'CGCTAA', 'CGCTAC', 'CGCTAT', 'CGCTAG', 'CGCTCA', 'CGCTCC', 'CGCTCT', 'CGCTCG', 'CGCTTA', 'CGCTTC', 'CGCTTT', 'CGCTTG', 'CGCTGA', 'CGCTGC', 'CGCTGT', 'CGCTGG', 'CGCGAA', 'CGCGAC', 'CGCGAT', 'CGCGAG', 'CGCGCA', 'CGCGCC', 'CGCGCT', 'CGCGCG', 'CGCGTA', 'CGCGTC', 'CGCGTT', 'CGCGTG', 'CGCGGA', 'CGCGGC', 'CGCGGT', 'CGCGGG', 'CGTAAA', 'CGTAAC', 'CGTAAT', 'CGTAAG', 'CGTACA', 'CGTACC', 'CGTACT', 'CGTACG', 'CGTATA', 'CGTATC', 'CGTATT', 'CGTATG', 'CGTAGA', 'CGTAGC', 'CGTAGT', 'CGTAGG', 'CGTCAA', 'CGTCAC', 'CGTCAT', 'CGTCAG', 'CGTCCA', 'CGTCCC', 'CGTCCT', 'CGTCCG', 'CGTCTA', 'CGTCTC', 'CGTCTT', 'CGTCTG', 'CGTCGA', 'CGTCGC', 'CGTCGT', 'CGTCGG', 'CGTTAA', 'CGTTAC', 'CGTTAT', 'CGTTAG', 'CGTTCA', 'CGTTCC', 'CGTTCT', 'CGTTCG', 'CGTTTA', 'CGTTTC', 'CGTTTT', 'CGTTTG', 'CGTTGA', 'CGTTGC', 'CGTTGT', 'CGTTGG', 'CGTGAA', 'CGTGAC', 'CGTGAT', 'CGTGAG', 'CGTGCA', 'CGTGCC', 'CGTGCT', 'CGTGCG', 'CGTGTA', 'CGTGTC', 'CGTGTT', 'CGTGTG', 'CGTGGA', 'CGTGGC', 'CGTGGT', 'CGTGGG', 'CGGAAA', 'CGGAAC', 'CGGAAT', 'CGGAAG', 'CGGACA', 'CGGACC', 'CGGACT', 'CGGACG', 'CGGATA', 'CGGATC', 'CGGATT', 'CGGATG', 'CGGAGA', 'CGGAGC', 'CGGAGT', 'CGGAGG', 'CGGCAA', 'CGGCAC', 'CGGCAT', 'CGGCAG', 'CGGCCA', 'CGGCCC', 'CGGCCT', 'CGGCCG', 'CGGCTA', 'CGGCTC', 'CGGCTT', 'CGGCTG', 'CGGCGA', 'CGGCGC', 'CGGCGT', 'CGGCGG', 'CGGTAA', 'CGGTAC', 'CGGTAT', 'CGGTAG', 'CGGTCA', 'CGGTCC', 'CGGTCT', 'CGGTCG', 'CGGTTA', 'CGGTTC', 'CGGTTT', 'CGGTTG', 'CGGTGA', 'CGGTGC', 'CGGTGT', 'CGGTGG', 'CGGGAA', 'CGGGAC', 'CGGGAT', 'CGGGAG', 'CGGGCA', 'CGGGCC', 'CGGGCT', 'CGGGCG', 'CGGGTA', 'CGGGTC', 'CGGGTT', 'CGGGTG', 'CGGGGA', 'CGGGGC', 'CGGGGT', 'CGGGGG', 'TAAAAA', 'TAAAAC', 'TAAAAT', 'TAAAAG', 'TAAACA', 'TAAACC', 'TAAACT', 'TAAACG', 'TAAATA', 'TAAATC', 'TAAATT', 'TAAATG', 'TAAAGA', 'TAAAGC', 'TAAAGT', 'TAAAGG', 'TAACAA', 'TAACAC', 'TAACAT', 'TAACAG', 'TAACCA', 'TAACCC', 'TAACCT', 'TAACCG', 'TAACTA', 'TAACTC', 'TAACTT', 'TAACTG', 'TAACGA', 'TAACGC', 'TAACGT', 'TAACGG', 'TAATAA', 'TAATAC', 'TAATAT', 'TAATAG', 'TAATCA', 'TAATCC', 'TAATCT', 'TAATCG', 'TAATTA', 'TAATTC', 'TAATTT', 'TAATTG', 'TAATGA', 'TAATGC', 'TAATGT', 'TAATGG', 'TAAGAA', 'TAAGAC', 'TAAGAT', 'TAAGAG', 'TAAGCA', 'TAAGCC', 'TAAGCT', 'TAAGCG', 'TAAGTA', 'TAAGTC', 'TAAGTT', 'TAAGTG', 'TAAGGA', 'TAAGGC', 'TAAGGT', 'TAAGGG', 'TACAAA', 'TACAAC', 'TACAAT', 'TACAAG', 'TACACA', 'TACACC', 'TACACT', 'TACACG', 'TACATA', 'TACATC', 'TACATT', 'TACATG', 'TACAGA', 'TACAGC', 'TACAGT', 'TACAGG', 'TACCAA', 'TACCAC', 'TACCAT', 'TACCAG', 'TACCCA', 'TACCCC', 'TACCCT', 'TACCCG', 'TACCTA', 'TACCTC', 'TACCTT', 'TACCTG', 'TACCGA', 'TACCGC', 'TACCGT', 'TACCGG', 'TACTAA', 'TACTAC', 'TACTAT', 'TACTAG', 'TACTCA', 'TACTCC', 'TACTCT', 'TACTCG', 'TACTTA', 'TACTTC', 'TACTTT', 'TACTTG', 'TACTGA', 'TACTGC', 'TACTGT', 'TACTGG', 'TACGAA', 'TACGAC', 'TACGAT', 'TACGAG', 'TACGCA', 'TACGCC', 'TACGCT', 'TACGCG', 'TACGTA', 'TACGTC', 'TACGTT', 'TACGTG', 'TACGGA', 'TACGGC', 'TACGGT', 'TACGGG', 'TATAAA', 'TATAAC', 'TATAAT', 'TATAAG', 'TATACA', 'TATACC', 'TATACT', 'TATACG', 'TATATA', 'TATATC', 'TATATT', 'TATATG', 'TATAGA', 'TATAGC', 'TATAGT', 'TATAGG', 'TATCAA', 'TATCAC', 'TATCAT', 'TATCAG', 'TATCCA', 'TATCCC', 'TATCCT', 'TATCCG', 'TATCTA', 'TATCTC', 'TATCTT', 'TATCTG', 'TATCGA', 'TATCGC', 'TATCGT', 'TATCGG', 'TATTAA', 'TATTAC', 'TATTAT', 'TATTAG', 'TATTCA', 'TATTCC', 'TATTCT', 'TATTCG', 'TATTTA', 'TATTTC', 'TATTTT', 'TATTTG', 'TATTGA', 'TATTGC', 'TATTGT', 'TATTGG', 'TATGAA', 'TATGAC', 'TATGAT', 'TATGAG', 'TATGCA', 'TATGCC', 'TATGCT', 'TATGCG', 'TATGTA', 'TATGTC', 'TATGTT', 'TATGTG', 'TATGGA', 'TATGGC', 'TATGGT', 'TATGGG', 'TAGAAA', 'TAGAAC', 'TAGAAT', 'TAGAAG', 'TAGACA', 'TAGACC', 'TAGACT', 'TAGACG', 'TAGATA', 'TAGATC', 'TAGATT', 'TAGATG', 'TAGAGA', 'TAGAGC', 'TAGAGT', 'TAGAGG', 'TAGCAA', 'TAGCAC', 'TAGCAT', 'TAGCAG', 'TAGCCA', 'TAGCCC', 'TAGCCT', 'TAGCCG', 'TAGCTA', 'TAGCTC', 'TAGCTT', 'TAGCTG', 'TAGCGA', 'TAGCGC', 'TAGCGT', 'TAGCGG', 'TAGTAA', 'TAGTAC', 'TAGTAT', 'TAGTAG', 'TAGTCA', 'TAGTCC', 'TAGTCT', 'TAGTCG', 'TAGTTA', 'TAGTTC', 'TAGTTT', 'TAGTTG', 'TAGTGA', 'TAGTGC', 'TAGTGT', 'TAGTGG', 'TAGGAA', 'TAGGAC', 'TAGGAT', 'TAGGAG', 'TAGGCA', 'TAGGCC', 'TAGGCT', 'TAGGCG', 'TAGGTA', 'TAGGTC', 'TAGGTT', 'TAGGTG', 'TAGGGA', 'TAGGGC', 'TAGGGT', 'TAGGGG', 'TCAAAA', 'TCAAAC', 'TCAAAT', 'TCAAAG', 'TCAACA', 'TCAACC', 'TCAACT', 'TCAACG', 'TCAATA', 'TCAATC', 'TCAATT', 'TCAATG', 'TCAAGA', 'TCAAGC', 'TCAAGT', 'TCAAGG', 'TCACAA', 'TCACAC', 'TCACAT', 'TCACAG', 'TCACCA', 'TCACCC', 'TCACCT', 'TCACCG', 'TCACTA', 'TCACTC', 'TCACTT', 'TCACTG', 'TCACGA', 'TCACGC', 'TCACGT', 'TCACGG', 'TCATAA', 'TCATAC', 'TCATAT', 'TCATAG', 'TCATCA', 'TCATCC', 'TCATCT', 'TCATCG', 'TCATTA', 'TCATTC', 'TCATTT', 'TCATTG', 'TCATGA', 'TCATGC', 'TCATGT', 'TCATGG', 'TCAGAA', 'TCAGAC', 'TCAGAT', 'TCAGAG', 'TCAGCA', 'TCAGCC', 'TCAGCT', 'TCAGCG', 'TCAGTA', 'TCAGTC', 'TCAGTT', 'TCAGTG', 'TCAGGA', 'TCAGGC', 'TCAGGT', 'TCAGGG', 'TCCAAA', 'TCCAAC', 'TCCAAT', 'TCCAAG', 'TCCACA', 'TCCACC', 'TCCACT', 'TCCACG', 'TCCATA', 'TCCATC', 'TCCATT', 'TCCATG', 'TCCAGA', 'TCCAGC', 'TCCAGT', 'TCCAGG', 'TCCCAA', 'TCCCAC', 'TCCCAT', 'TCCCAG', 'TCCCCA', 'TCCCCC', 'TCCCCT', 'TCCCCG', 'TCCCTA', 'TCCCTC', 'TCCCTT', 'TCCCTG', 'TCCCGA', 'TCCCGC', 'TCCCGT', 'TCCCGG', 'TCCTAA', 'TCCTAC', 'TCCTAT', 'TCCTAG', 'TCCTCA', 'TCCTCC', 'TCCTCT', 'TCCTCG', 'TCCTTA', 'TCCTTC', 'TCCTTT', 'TCCTTG', 'TCCTGA', 'TCCTGC', 'TCCTGT', 'TCCTGG', 'TCCGAA', 'TCCGAC', 'TCCGAT', 'TCCGAG', 'TCCGCA', 'TCCGCC', 'TCCGCT', 'TCCGCG', 'TCCGTA', 'TCCGTC', 'TCCGTT', 'TCCGTG', 'TCCGGA', 'TCCGGC', 'TCCGGT', 'TCCGGG', 'TCTAAA', 'TCTAAC', 'TCTAAT', 'TCTAAG', 'TCTACA', 'TCTACC', 'TCTACT', 'TCTACG', 'TCTATA', 'TCTATC', 'TCTATT', 'TCTATG', 'TCTAGA', 'TCTAGC', 'TCTAGT', 'TCTAGG', 'TCTCAA', 'TCTCAC', 'TCTCAT', 'TCTCAG', 'TCTCCA', 'TCTCCC', 'TCTCCT', 'TCTCCG', 'TCTCTA', 'TCTCTC', 'TCTCTT', 'TCTCTG', 'TCTCGA', 'TCTCGC', 'TCTCGT', 'TCTCGG', 'TCTTAA', 'TCTTAC', 'TCTTAT', 'TCTTAG', 'TCTTCA', 'TCTTCC', 'TCTTCT', 'TCTTCG', 'TCTTTA', 'TCTTTC', 'TCTTTT', 'TCTTTG', 'TCTTGA', 'TCTTGC', 'TCTTGT', 'TCTTGG', 'TCTGAA', 'TCTGAC', 'TCTGAT', 'TCTGAG', 'TCTGCA', 'TCTGCC', 'TCTGCT', 'TCTGCG', 'TCTGTA', 'TCTGTC', 'TCTGTT', 'TCTGTG', 'TCTGGA', 'TCTGGC', 'TCTGGT', 'TCTGGG', 'TCGAAA', 'TCGAAC', 'TCGAAT', 'TCGAAG', 'TCGACA', 'TCGACC', 'TCGACT', 'TCGACG', 'TCGATA', 'TCGATC', 'TCGATT', 'TCGATG', 'TCGAGA', 'TCGAGC', 'TCGAGT', 'TCGAGG', 'TCGCAA', 'TCGCAC', 'TCGCAT', 'TCGCAG', 'TCGCCA', 'TCGCCC', 'TCGCCT', 'TCGCCG', 'TCGCTA', 'TCGCTC', 'TCGCTT', 'TCGCTG', 'TCGCGA', 'TCGCGC', 'TCGCGT', 'TCGCGG', 'TCGTAA', 'TCGTAC', 'TCGTAT', 'TCGTAG', 'TCGTCA', 'TCGTCC', 'TCGTCT', 'TCGTCG', 'TCGTTA', 'TCGTTC', 'TCGTTT', 'TCGTTG', 'TCGTGA', 'TCGTGC', 'TCGTGT', 'TCGTGG', 'TCGGAA', 'TCGGAC', 'TCGGAT', 'TCGGAG', 'TCGGCA', 'TCGGCC', 'TCGGCT', 'TCGGCG', 'TCGGTA', 'TCGGTC', 'TCGGTT', 'TCGGTG', 'TCGGGA', 'TCGGGC', 'TCGGGT', 'TCGGGG', 'TTAAAA', 'TTAAAC', 'TTAAAT', 'TTAAAG', 'TTAACA', 'TTAACC', 'TTAACT', 'TTAACG', 'TTAATA', 'TTAATC', 'TTAATT', 'TTAATG', 'TTAAGA', 'TTAAGC', 'TTAAGT', 'TTAAGG', 'TTACAA', 'TTACAC', 'TTACAT', 'TTACAG', 'TTACCA', 'TTACCC', 'TTACCT', 'TTACCG', 'TTACTA', 'TTACTC', 'TTACTT', 'TTACTG', 'TTACGA', 'TTACGC', 'TTACGT', 'TTACGG', 'TTATAA', 'TTATAC', 'TTATAT', 'TTATAG', 'TTATCA', 'TTATCC', 'TTATCT', 'TTATCG', 'TTATTA', 'TTATTC', 'TTATTT', 'TTATTG', 'TTATGA', 'TTATGC', 'TTATGT', 'TTATGG', 'TTAGAA', 'TTAGAC', 'TTAGAT', 'TTAGAG', 'TTAGCA', 'TTAGCC', 'TTAGCT', 'TTAGCG', 'TTAGTA', 'TTAGTC', 'TTAGTT', 'TTAGTG', 'TTAGGA', 'TTAGGC', 'TTAGGT', 'TTAGGG', 'TTCAAA', 'TTCAAC', 'TTCAAT', 'TTCAAG', 'TTCACA', 'TTCACC', 'TTCACT', 'TTCACG', 'TTCATA', 'TTCATC', 'TTCATT', 'TTCATG', 'TTCAGA', 'TTCAGC', 'TTCAGT', 'TTCAGG', 'TTCCAA', 'TTCCAC', 'TTCCAT', 'TTCCAG', 'TTCCCA', 'TTCCCC', 'TTCCCT', 'TTCCCG', 'TTCCTA', 'TTCCTC', 'TTCCTT', 'TTCCTG', 'TTCCGA', 'TTCCGC', 'TTCCGT', 'TTCCGG', 'TTCTAA', 'TTCTAC', 'TTCTAT', 'TTCTAG', 'TTCTCA', 'TTCTCC', 'TTCTCT', 'TTCTCG', 'TTCTTA', 'TTCTTC', 'TTCTTT', 'TTCTTG', 'TTCTGA', 'TTCTGC', 'TTCTGT', 'TTCTGG', 'TTCGAA', 'TTCGAC', 'TTCGAT', 'TTCGAG', 'TTCGCA', 'TTCGCC', 'TTCGCT', 'TTCGCG', 'TTCGTA', 'TTCGTC', 'TTCGTT', 'TTCGTG', 'TTCGGA', 'TTCGGC', 'TTCGGT', 'TTCGGG', 'TTTAAA', 'TTTAAC', 'TTTAAT', 'TTTAAG', 'TTTACA', 'TTTACC', 'TTTACT', 'TTTACG', 'TTTATA', 'TTTATC', 'TTTATT', 'TTTATG', 'TTTAGA', 'TTTAGC', 'TTTAGT', 'TTTAGG', 'TTTCAA', 'TTTCAC', 'TTTCAT', 'TTTCAG', 'TTTCCA', 'TTTCCC', 'TTTCCT', 'TTTCCG', 'TTTCTA', 'TTTCTC', 'TTTCTT', 'TTTCTG', 'TTTCGA', 'TTTCGC', 'TTTCGT', 'TTTCGG', 'TTTTAA', 'TTTTAC', 'TTTTAT', 'TTTTAG', 'TTTTCA', 'TTTTCC', 'TTTTCT', 'TTTTCG', 'TTTTTA', 'TTTTTC', 'TTTTTT', 'TTTTTG', 'TTTTGA', 'TTTTGC', 'TTTTGT', 'TTTTGG', 'TTTGAA', 'TTTGAC', 'TTTGAT', 'TTTGAG', 'TTTGCA', 'TTTGCC', 'TTTGCT', 'TTTGCG', 'TTTGTA', 'TTTGTC', 'TTTGTT', 'TTTGTG', 'TTTGGA', 'TTTGGC', 'TTTGGT', 'TTTGGG', 'TTGAAA', 'TTGAAC', 'TTGAAT', 'TTGAAG', 'TTGACA', 'TTGACC', 'TTGACT', 'TTGACG', 'TTGATA', 'TTGATC', 'TTGATT', 'TTGATG', 'TTGAGA', 'TTGAGC', 'TTGAGT', 'TTGAGG', 'TTGCAA', 'TTGCAC', 'TTGCAT', 'TTGCAG', 'TTGCCA', 'TTGCCC', 'TTGCCT', 'TTGCCG', 'TTGCTA', 'TTGCTC', 'TTGCTT', 'TTGCTG', 'TTGCGA', 'TTGCGC', 'TTGCGT', 'TTGCGG', 'TTGTAA', 'TTGTAC', 'TTGTAT', 'TTGTAG', 'TTGTCA', 'TTGTCC', 'TTGTCT', 'TTGTCG', 'TTGTTA', 'TTGTTC', 'TTGTTT', 'TTGTTG', 'TTGTGA', 'TTGTGC', 'TTGTGT', 'TTGTGG', 'TTGGAA', 'TTGGAC', 'TTGGAT', 'TTGGAG', 'TTGGCA', 'TTGGCC', 'TTGGCT', 'TTGGCG', 'TTGGTA', 'TTGGTC', 'TTGGTT', 'TTGGTG', 'TTGGGA', 'TTGGGC', 'TTGGGT', 'TTGGGG', 'TGAAAA', 'TGAAAC', 'TGAAAT', 'TGAAAG', 'TGAACA', 'TGAACC', 'TGAACT', 'TGAACG', 'TGAATA', 'TGAATC', 'TGAATT', 'TGAATG', 'TGAAGA', 'TGAAGC', 'TGAAGT', 'TGAAGG', 'TGACAA', 'TGACAC', 'TGACAT', 'TGACAG', 'TGACCA', 'TGACCC', 'TGACCT', 'TGACCG', 'TGACTA', 'TGACTC', 'TGACTT', 'TGACTG', 'TGACGA', 'TGACGC', 'TGACGT', 'TGACGG', 'TGATAA', 'TGATAC', 'TGATAT', 'TGATAG', 'TGATCA', 'TGATCC', 'TGATCT', 'TGATCG', 'TGATTA', 'TGATTC', 'TGATTT', 'TGATTG', 'TGATGA', 'TGATGC', 'TGATGT', 'TGATGG', 'TGAGAA', 'TGAGAC', 'TGAGAT', 'TGAGAG', 'TGAGCA', 'TGAGCC', 'TGAGCT', 'TGAGCG', 'TGAGTA', 'TGAGTC', 'TGAGTT', 'TGAGTG', 'TGAGGA', 'TGAGGC', 'TGAGGT', 'TGAGGG', 'TGCAAA', 'TGCAAC', 'TGCAAT', 'TGCAAG', 'TGCACA', 'TGCACC', 'TGCACT', 'TGCACG', 'TGCATA', 'TGCATC', 'TGCATT', 'TGCATG', 'TGCAGA', 'TGCAGC', 'TGCAGT', 'TGCAGG', 'TGCCAA', 'TGCCAC', 'TGCCAT', 'TGCCAG', 'TGCCCA', 'TGCCCC', 'TGCCCT', 'TGCCCG', 'TGCCTA', 'TGCCTC', 'TGCCTT', 'TGCCTG', 'TGCCGA', 'TGCCGC', 'TGCCGT', 'TGCCGG', 'TGCTAA', 'TGCTAC', 'TGCTAT', 'TGCTAG', 'TGCTCA', 'TGCTCC', 'TGCTCT', 'TGCTCG', 'TGCTTA', 'TGCTTC', 'TGCTTT', 'TGCTTG', 'TGCTGA', 'TGCTGC', 'TGCTGT', 'TGCTGG', 'TGCGAA', 'TGCGAC', 'TGCGAT', 'TGCGAG', 'TGCGCA', 'TGCGCC', 'TGCGCT', 'TGCGCG', 'TGCGTA', 'TGCGTC', 'TGCGTT', 'TGCGTG', 'TGCGGA', 'TGCGGC', 'TGCGGT', 'TGCGGG', 'TGTAAA', 'TGTAAC', 'TGTAAT', 'TGTAAG', 'TGTACA', 'TGTACC', 'TGTACT', 'TGTACG', 'TGTATA', 'TGTATC', 'TGTATT', 'TGTATG', 'TGTAGA', 'TGTAGC', 'TGTAGT', 'TGTAGG', 'TGTCAA', 'TGTCAC', 'TGTCAT', 'TGTCAG', 'TGTCCA', 'TGTCCC', 'TGTCCT', 'TGTCCG', 'TGTCTA', 'TGTCTC', 'TGTCTT', 'TGTCTG', 'TGTCGA', 'TGTCGC', 'TGTCGT', 'TGTCGG', 'TGTTAA', 'TGTTAC', 'TGTTAT', 'TGTTAG', 'TGTTCA', 'TGTTCC', 'TGTTCT', 'TGTTCG', 'TGTTTA', 'TGTTTC', 'TGTTTT', 'TGTTTG', 'TGTTGA', 'TGTTGC', 'TGTTGT', 'TGTTGG', 'TGTGAA', 'TGTGAC', 'TGTGAT', 'TGTGAG', 'TGTGCA', 'TGTGCC', 'TGTGCT', 'TGTGCG', 'TGTGTA', 'TGTGTC', 'TGTGTT', 'TGTGTG', 'TGTGGA', 'TGTGGC', 'TGTGGT', 'TGTGGG', 'TGGAAA', 'TGGAAC', 'TGGAAT', 'TGGAAG', 'TGGACA', 'TGGACC', 'TGGACT', 'TGGACG', 'TGGATA', 'TGGATC', 'TGGATT', 'TGGATG', 'TGGAGA', 'TGGAGC', 'TGGAGT', 'TGGAGG', 'TGGCAA', 'TGGCAC', 'TGGCAT', 'TGGCAG', 'TGGCCA', 'TGGCCC', 'TGGCCT', 'TGGCCG', 'TGGCTA', 'TGGCTC', 'TGGCTT', 'TGGCTG', 'TGGCGA', 'TGGCGC', 'TGGCGT', 'TGGCGG', 'TGGTAA', 'TGGTAC', 'TGGTAT', 'TGGTAG', 'TGGTCA', 'TGGTCC', 'TGGTCT', 'TGGTCG', 'TGGTTA', 'TGGTTC', 'TGGTTT', 'TGGTTG', 'TGGTGA', 'TGGTGC', 'TGGTGT', 'TGGTGG', 'TGGGAA', 'TGGGAC', 'TGGGAT', 'TGGGAG', 'TGGGCA', 'TGGGCC', 'TGGGCT', 'TGGGCG', 'TGGGTA', 'TGGGTC', 'TGGGTT', 'TGGGTG', 'TGGGGA', 'TGGGGC', 'TGGGGT', 'TGGGGG', 'GAAAAA', 'GAAAAC', 'GAAAAT', 'GAAAAG', 'GAAACA', 'GAAACC', 'GAAACT', 'GAAACG', 'GAAATA', 'GAAATC', 'GAAATT', 'GAAATG', 'GAAAGA', 'GAAAGC', 'GAAAGT', 'GAAAGG', 'GAACAA', 'GAACAC', 'GAACAT', 'GAACAG', 'GAACCA', 'GAACCC', 'GAACCT', 'GAACCG', 'GAACTA', 'GAACTC', 'GAACTT', 'GAACTG', 'GAACGA', 'GAACGC', 'GAACGT', 'GAACGG', 'GAATAA', 'GAATAC', 'GAATAT', 'GAATAG', 'GAATCA', 'GAATCC', 'GAATCT', 'GAATCG', 'GAATTA', 'GAATTC', 'GAATTT', 'GAATTG', 'GAATGA', 'GAATGC', 'GAATGT', 'GAATGG', 'GAAGAA', 'GAAGAC', 'GAAGAT', 'GAAGAG', 'GAAGCA', 'GAAGCC', 'GAAGCT', 'GAAGCG', 'GAAGTA', 'GAAGTC', 'GAAGTT', 'GAAGTG', 'GAAGGA', 'GAAGGC', 'GAAGGT', 'GAAGGG', 'GACAAA', 'GACAAC', 'GACAAT', 'GACAAG', 'GACACA', 'GACACC', 'GACACT', 'GACACG', 'GACATA', 'GACATC', 'GACATT', 'GACATG', 'GACAGA', 'GACAGC', 'GACAGT', 'GACAGG', 'GACCAA', 'GACCAC', 'GACCAT', 'GACCAG', 'GACCCA', 'GACCCC', 'GACCCT', 'GACCCG', 'GACCTA', 'GACCTC', 'GACCTT', 'GACCTG', 'GACCGA', 'GACCGC', 'GACCGT', 'GACCGG', 'GACTAA', 'GACTAC', 'GACTAT', 'GACTAG', 'GACTCA', 'GACTCC', 'GACTCT', 'GACTCG', 'GACTTA', 'GACTTC', 'GACTTT', 'GACTTG', 'GACTGA', 'GACTGC', 'GACTGT', 'GACTGG', 'GACGAA', 'GACGAC', 'GACGAT', 'GACGAG', 'GACGCA', 'GACGCC', 'GACGCT', 'GACGCG', 'GACGTA', 'GACGTC', 'GACGTT', 'GACGTG', 'GACGGA', 'GACGGC', 'GACGGT', 'GACGGG', 'GATAAA', 'GATAAC', 'GATAAT', 'GATAAG', 'GATACA', 'GATACC', 'GATACT', 'GATACG', 'GATATA', 'GATATC', 'GATATT', 'GATATG', 'GATAGA', 'GATAGC', 'GATAGT', 'GATAGG', 'GATCAA', 'GATCAC', 'GATCAT', 'GATCAG', 'GATCCA', 'GATCCC', 'GATCCT', 'GATCCG', 'GATCTA', 'GATCTC', 'GATCTT', 'GATCTG', 'GATCGA', 'GATCGC', 'GATCGT', 'GATCGG', 'GATTAA', 'GATTAC', 'GATTAT', 'GATTAG', 'GATTCA', 'GATTCC', 'GATTCT', 'GATTCG', 'GATTTA', 'GATTTC', 'GATTTT', 'GATTTG', 'GATTGA', 'GATTGC', 'GATTGT', 'GATTGG', 'GATGAA', 'GATGAC', 'GATGAT', 'GATGAG', 'GATGCA', 'GATGCC', 'GATGCT', 'GATGCG', 'GATGTA', 'GATGTC', 'GATGTT', 'GATGTG', 'GATGGA', 'GATGGC', 'GATGGT', 'GATGGG', 'GAGAAA', 'GAGAAC', 'GAGAAT', 'GAGAAG', 'GAGACA', 'GAGACC', 'GAGACT', 'GAGACG', 'GAGATA', 'GAGATC', 'GAGATT', 'GAGATG', 'GAGAGA', 'GAGAGC', 'GAGAGT', 'GAGAGG', 'GAGCAA', 'GAGCAC', 'GAGCAT', 'GAGCAG', 'GAGCCA', 'GAGCCC', 'GAGCCT', 'GAGCCG', 'GAGCTA', 'GAGCTC', 'GAGCTT', 'GAGCTG', 'GAGCGA', 'GAGCGC', 'GAGCGT', 'GAGCGG', 'GAGTAA', 'GAGTAC', 'GAGTAT', 'GAGTAG', 'GAGTCA', 'GAGTCC', 'GAGTCT', 'GAGTCG', 'GAGTTA', 'GAGTTC', 'GAGTTT', 'GAGTTG', 'GAGTGA', 'GAGTGC', 'GAGTGT', 'GAGTGG', 'GAGGAA', 'GAGGAC', 'GAGGAT', 'GAGGAG', 'GAGGCA', 'GAGGCC', 'GAGGCT', 'GAGGCG', 'GAGGTA', 'GAGGTC', 'GAGGTT', 'GAGGTG', 'GAGGGA', 'GAGGGC', 'GAGGGT', 'GAGGGG', 'GCAAAA', 'GCAAAC', 'GCAAAT', 'GCAAAG', 'GCAACA', 'GCAACC', 'GCAACT', 'GCAACG', 'GCAATA', 'GCAATC', 'GCAATT', 'GCAATG', 'GCAAGA', 'GCAAGC', 'GCAAGT', 'GCAAGG', 'GCACAA', 'GCACAC', 'GCACAT', 'GCACAG', 'GCACCA', 'GCACCC', 'GCACCT', 'GCACCG', 'GCACTA', 'GCACTC', 'GCACTT', 'GCACTG', 'GCACGA', 'GCACGC', 'GCACGT', 'GCACGG', 'GCATAA', 'GCATAC', 'GCATAT', 'GCATAG', 'GCATCA', 'GCATCC', 'GCATCT', 'GCATCG', 'GCATTA', 'GCATTC', 'GCATTT', 'GCATTG', 'GCATGA', 'GCATGC', 'GCATGT', 'GCATGG', 'GCAGAA', 'GCAGAC', 'GCAGAT', 'GCAGAG', 'GCAGCA', 'GCAGCC', 'GCAGCT', 'GCAGCG', 'GCAGTA', 'GCAGTC', 'GCAGTT', 'GCAGTG', 'GCAGGA', 'GCAGGC', 'GCAGGT', 'GCAGGG', 'GCCAAA', 'GCCAAC', 'GCCAAT', 'GCCAAG', 'GCCACA', 'GCCACC', 'GCCACT', 'GCCACG', 'GCCATA', 'GCCATC', 'GCCATT', 'GCCATG', 'GCCAGA', 'GCCAGC', 'GCCAGT', 'GCCAGG', 'GCCCAA', 'GCCCAC', 'GCCCAT', 'GCCCAG', 'GCCCCA', 'GCCCCC', 'GCCCCT', 'GCCCCG', 'GCCCTA', 'GCCCTC', 'GCCCTT', 'GCCCTG', 'GCCCGA', 'GCCCGC', 'GCCCGT', 'GCCCGG', 'GCCTAA', 'GCCTAC', 'GCCTAT', 'GCCTAG', 'GCCTCA', 'GCCTCC', 'GCCTCT', 'GCCTCG', 'GCCTTA', 'GCCTTC', 'GCCTTT', 'GCCTTG', 'GCCTGA', 'GCCTGC', 'GCCTGT', 'GCCTGG', 'GCCGAA', 'GCCGAC', 'GCCGAT', 'GCCGAG', 'GCCGCA', 'GCCGCC', 'GCCGCT', 'GCCGCG', 'GCCGTA', 'GCCGTC', 'GCCGTT', 'GCCGTG', 'GCCGGA', 'GCCGGC', 'GCCGGT', 'GCCGGG', 'GCTAAA', 'GCTAAC', 'GCTAAT', 'GCTAAG', 'GCTACA', 'GCTACC', 'GCTACT', 'GCTACG', 'GCTATA', 'GCTATC', 'GCTATT', 'GCTATG', 'GCTAGA', 'GCTAGC', 'GCTAGT', 'GCTAGG', 'GCTCAA', 'GCTCAC', 'GCTCAT', 'GCTCAG', 'GCTCCA', 'GCTCCC', 'GCTCCT', 'GCTCCG', 'GCTCTA', 'GCTCTC', 'GCTCTT', 'GCTCTG', 'GCTCGA', 'GCTCGC', 'GCTCGT', 'GCTCGG', 'GCTTAA', 'GCTTAC', 'GCTTAT', 'GCTTAG', 'GCTTCA', 'GCTTCC', 'GCTTCT', 'GCTTCG', 'GCTTTA', 'GCTTTC', 'GCTTTT', 'GCTTTG', 'GCTTGA', 'GCTTGC', 'GCTTGT', 'GCTTGG', 'GCTGAA', 'GCTGAC', 'GCTGAT', 'GCTGAG', 'GCTGCA', 'GCTGCC', 'GCTGCT', 'GCTGCG', 'GCTGTA', 'GCTGTC', 'GCTGTT', 'GCTGTG', 'GCTGGA', 'GCTGGC', 'GCTGGT', 'GCTGGG', 'GCGAAA', 'GCGAAC', 'GCGAAT', 'GCGAAG', 'GCGACA', 'GCGACC', 'GCGACT', 'GCGACG', 'GCGATA', 'GCGATC', 'GCGATT', 'GCGATG', 'GCGAGA', 'GCGAGC', 'GCGAGT', 'GCGAGG', 'GCGCAA', 'GCGCAC', 'GCGCAT', 'GCGCAG', 'GCGCCA', 'GCGCCC', 'GCGCCT', 'GCGCCG', 'GCGCTA', 'GCGCTC', 'GCGCTT', 'GCGCTG', 'GCGCGA', 'GCGCGC', 'GCGCGT', 'GCGCGG', 'GCGTAA', 'GCGTAC', 'GCGTAT', 'GCGTAG', 'GCGTCA', 'GCGTCC', 'GCGTCT', 'GCGTCG', 'GCGTTA', 'GCGTTC', 'GCGTTT', 'GCGTTG', 'GCGTGA', 'GCGTGC', 'GCGTGT', 'GCGTGG', 'GCGGAA', 'GCGGAC', 'GCGGAT', 'GCGGAG', 'GCGGCA', 'GCGGCC', 'GCGGCT', 'GCGGCG', 'GCGGTA', 'GCGGTC', 'GCGGTT', 'GCGGTG', 'GCGGGA', 'GCGGGC', 'GCGGGT', 'GCGGGG', 'GTAAAA', 'GTAAAC', 'GTAAAT', 'GTAAAG', 'GTAACA', 'GTAACC', 'GTAACT', 'GTAACG', 'GTAATA', 'GTAATC', 'GTAATT', 'GTAATG', 'GTAAGA', 'GTAAGC', 'GTAAGT', 'GTAAGG', 'GTACAA', 'GTACAC', 'GTACAT', 'GTACAG', 'GTACCA', 'GTACCC', 'GTACCT', 'GTACCG', 'GTACTA', 'GTACTC', 'GTACTT', 'GTACTG', 'GTACGA', 'GTACGC', 'GTACGT', 'GTACGG', 'GTATAA', 'GTATAC', 'GTATAT', 'GTATAG', 'GTATCA', 'GTATCC', 'GTATCT', 'GTATCG', 'GTATTA', 'GTATTC', 'GTATTT', 'GTATTG', 'GTATGA', 'GTATGC', 'GTATGT', 'GTATGG', 'GTAGAA', 'GTAGAC', 'GTAGAT', 'GTAGAG', 'GTAGCA', 'GTAGCC', 'GTAGCT', 'GTAGCG', 'GTAGTA', 'GTAGTC', 'GTAGTT', 'GTAGTG', 'GTAGGA', 'GTAGGC', 'GTAGGT', 'GTAGGG', 'GTCAAA', 'GTCAAC', 'GTCAAT', 'GTCAAG', 'GTCACA', 'GTCACC', 'GTCACT', 'GTCACG', 'GTCATA', 'GTCATC', 'GTCATT', 'GTCATG', 'GTCAGA', 'GTCAGC', 'GTCAGT', 'GTCAGG', 'GTCCAA', 'GTCCAC', 'GTCCAT', 'GTCCAG', 'GTCCCA', 'GTCCCC', 'GTCCCT', 'GTCCCG', 'GTCCTA', 'GTCCTC', 'GTCCTT', 'GTCCTG', 'GTCCGA', 'GTCCGC', 'GTCCGT', 'GTCCGG', 'GTCTAA', 'GTCTAC', 'GTCTAT', 'GTCTAG', 'GTCTCA', 'GTCTCC', 'GTCTCT', 'GTCTCG', 'GTCTTA', 'GTCTTC', 'GTCTTT', 'GTCTTG', 'GTCTGA', 'GTCTGC', 'GTCTGT', 'GTCTGG', 'GTCGAA', 'GTCGAC', 'GTCGAT', 'GTCGAG', 'GTCGCA', 'GTCGCC', 'GTCGCT', 'GTCGCG', 'GTCGTA', 'GTCGTC', 'GTCGTT', 'GTCGTG', 'GTCGGA', 'GTCGGC', 'GTCGGT', 'GTCGGG', 'GTTAAA', 'GTTAAC', 'GTTAAT', 'GTTAAG', 'GTTACA', 'GTTACC', 'GTTACT', 'GTTACG', 'GTTATA', 'GTTATC', 'GTTATT', 'GTTATG', 'GTTAGA', 'GTTAGC', 'GTTAGT', 'GTTAGG', 'GTTCAA', 'GTTCAC', 'GTTCAT', 'GTTCAG', 'GTTCCA', 'GTTCCC', 'GTTCCT', 'GTTCCG', 'GTTCTA', 'GTTCTC', 'GTTCTT', 'GTTCTG', 'GTTCGA', 'GTTCGC', 'GTTCGT', 'GTTCGG', 'GTTTAA', 'GTTTAC', 'GTTTAT', 'GTTTAG', 'GTTTCA', 'GTTTCC', 'GTTTCT', 'GTTTCG', 'GTTTTA', 'GTTTTC', 'GTTTTT', 'GTTTTG', 'GTTTGA', 'GTTTGC', 'GTTTGT', 'GTTTGG', 'GTTGAA', 'GTTGAC', 'GTTGAT', 'GTTGAG', 'GTTGCA', 'GTTGCC', 'GTTGCT', 'GTTGCG', 'GTTGTA', 'GTTGTC', 'GTTGTT', 'GTTGTG', 'GTTGGA', 'GTTGGC', 'GTTGGT', 'GTTGGG', 'GTGAAA', 'GTGAAC', 'GTGAAT', 'GTGAAG', 'GTGACA', 'GTGACC', 'GTGACT', 'GTGACG', 'GTGATA', 'GTGATC', 'GTGATT', 'GTGATG', 'GTGAGA', 'GTGAGC', 'GTGAGT', 'GTGAGG', 'GTGCAA', 'GTGCAC', 'GTGCAT', 'GTGCAG', 'GTGCCA', 'GTGCCC', 'GTGCCT', 'GTGCCG', 'GTGCTA', 'GTGCTC', 'GTGCTT', 'GTGCTG', 'GTGCGA', 'GTGCGC', 'GTGCGT', 'GTGCGG', 'GTGTAA', 'GTGTAC', 'GTGTAT', 'GTGTAG', 'GTGTCA', 'GTGTCC', 'GTGTCT', 'GTGTCG', 'GTGTTA', 'GTGTTC', 'GTGTTT', 'GTGTTG', 'GTGTGA', 'GTGTGC', 'GTGTGT', 'GTGTGG', 'GTGGAA', 'GTGGAC', 'GTGGAT', 'GTGGAG', 'GTGGCA', 'GTGGCC', 'GTGGCT', 'GTGGCG', 'GTGGTA', 'GTGGTC', 'GTGGTT', 'GTGGTG', 'GTGGGA', 'GTGGGC', 'GTGGGT', 'GTGGGG', 'GGAAAA', 'GGAAAC', 'GGAAAT', 'GGAAAG', 'GGAACA', 'GGAACC', 'GGAACT', 'GGAACG', 'GGAATA', 'GGAATC', 'GGAATT', 'GGAATG', 'GGAAGA', 'GGAAGC', 'GGAAGT', 'GGAAGG', 'GGACAA', 'GGACAC', 'GGACAT', 'GGACAG', 'GGACCA', 'GGACCC', 'GGACCT', 'GGACCG', 'GGACTA', 'GGACTC', 'GGACTT', 'GGACTG', 'GGACGA', 'GGACGC', 'GGACGT', 'GGACGG', 'GGATAA', 'GGATAC', 'GGATAT', 'GGATAG', 'GGATCA', 'GGATCC', 'GGATCT', 'GGATCG', 'GGATTA', 'GGATTC', 'GGATTT', 'GGATTG', 'GGATGA', 'GGATGC', 'GGATGT', 'GGATGG', 'GGAGAA', 'GGAGAC', 'GGAGAT', 'GGAGAG', 'GGAGCA', 'GGAGCC', 'GGAGCT', 'GGAGCG', 'GGAGTA', 'GGAGTC', 'GGAGTT', 'GGAGTG', 'GGAGGA', 'GGAGGC', 'GGAGGT', 'GGAGGG', 'GGCAAA', 'GGCAAC', 'GGCAAT', 'GGCAAG', 'GGCACA', 'GGCACC', 'GGCACT', 'GGCACG', 'GGCATA', 'GGCATC', 'GGCATT', 'GGCATG', 'GGCAGA', 'GGCAGC', 'GGCAGT', 'GGCAGG', 'GGCCAA', 'GGCCAC', 'GGCCAT', 'GGCCAG', 'GGCCCA', 'GGCCCC', 'GGCCCT', 'GGCCCG', 'GGCCTA', 'GGCCTC', 'GGCCTT', 'GGCCTG', 'GGCCGA', 'GGCCGC', 'GGCCGT', 'GGCCGG', 'GGCTAA', 'GGCTAC', 'GGCTAT', 'GGCTAG', 'GGCTCA', 'GGCTCC', 'GGCTCT', 'GGCTCG', 'GGCTTA', 'GGCTTC', 'GGCTTT', 'GGCTTG', 'GGCTGA', 'GGCTGC', 'GGCTGT', 'GGCTGG', 'GGCGAA', 'GGCGAC', 'GGCGAT', 'GGCGAG', 'GGCGCA', 'GGCGCC', 'GGCGCT', 'GGCGCG', 'GGCGTA', 'GGCGTC', 'GGCGTT', 'GGCGTG', 'GGCGGA', 'GGCGGC', 'GGCGGT', 'GGCGGG', 'GGTAAA', 'GGTAAC', 'GGTAAT', 'GGTAAG', 'GGTACA', 'GGTACC', 'GGTACT', 'GGTACG', 'GGTATA', 'GGTATC', 'GGTATT', 'GGTATG', 'GGTAGA', 'GGTAGC', 'GGTAGT', 'GGTAGG', 'GGTCAA', 'GGTCAC', 'GGTCAT', 'GGTCAG', 'GGTCCA', 'GGTCCC', 'GGTCCT', 'GGTCCG', 'GGTCTA', 'GGTCTC', 'GGTCTT', 'GGTCTG', 'GGTCGA', 'GGTCGC', 'GGTCGT', 'GGTCGG', 'GGTTAA', 'GGTTAC', 'GGTTAT', 'GGTTAG', 'GGTTCA', 'GGTTCC', 'GGTTCT', 'GGTTCG', 'GGTTTA', 'GGTTTC', 'GGTTTT', 'GGTTTG', 'GGTTGA', 'GGTTGC', 'GGTTGT', 'GGTTGG', 'GGTGAA', 'GGTGAC', 'GGTGAT', 'GGTGAG', 'GGTGCA', 'GGTGCC', 'GGTGCT', 'GGTGCG', 'GGTGTA', 'GGTGTC', 'GGTGTT', 'GGTGTG', 'GGTGGA', 'GGTGGC', 'GGTGGT', 'GGTGGG', 'GGGAAA', 'GGGAAC', 'GGGAAT', 'GGGAAG', 'GGGACA', 'GGGACC', 'GGGACT', 'GGGACG', 'GGGATA', 'GGGATC', 'GGGATT', 'GGGATG', 'GGGAGA', 'GGGAGC', 'GGGAGT', 'GGGAGG', 'GGGCAA', 'GGGCAC', 'GGGCAT', 'GGGCAG', 'GGGCCA', 'GGGCCC', 'GGGCCT', 'GGGCCG', 'GGGCTA', 'GGGCTC', 'GGGCTT', 'GGGCTG', 'GGGCGA', 'GGGCGC', 'GGGCGT', 'GGGCGG', 'GGGTAA', 'GGGTAC', 'GGGTAT', 'GGGTAG', 'GGGTCA', 'GGGTCC', 'GGGTCT', 'GGGTCG', 'GGGTTA', 'GGGTTC', 'GGGTTT', 'GGGTTG', 'GGGTGA', 'GGGTGC', 'GGGTGT', 'GGGTGG', 'GGGGAA', 'GGGGAC', 'GGGGAT', 'GGGGAG', 'GGGGCA', 'GGGGCC', 'GGGGCT', 'GGGGCG', 'GGGGTA', 'GGGGTC', 'GGGGTT', 'GGGGTG', 'GGGGGA', 'GGGGGC', 'GGGGGT', 'GGGGGG']\n"
          ]
        }
      ]
    },
    {
      "cell_type": "markdown",
      "source": [
        "# **Trabalhando com Arquivos**\n",
        "Fazer Download do genoma *H. influenzae*\n"
      ],
      "metadata": {
        "id": "Qw5HCedxKQcm"
      }
    },
    {
      "cell_type": "code",
      "source": [
        "# Aqui foi feito o download diretamente do site NCBI utilizando o endereço do genoma\n",
        "!wget https://ftp.ncbi.nlm.nih.gov/genomes/all/GCF/000/931/575/GCF_000931575.1_ASM93157v1/GCF_000931575.1_ASM93157v1_genomic.fna.gz\n",
        "\n",
        "# O arquivo foi armazenado no diretório /content da máquina virtual e descompactado com o gunzip.\n",
        "!gunzip GCF_000931575.1_ASM93157v1_genomic.fna.gz\n",
        "\n",
        "#Troca de nome do arquivo.\n",
        "!cp /content/GCF_000931575.1_ASM93157v1_genomic.fna /content/GCF_000931575.1_ASM93157v1_genomic.fasta"
      ],
      "metadata": {
        "id": "wU60orERV7di"
      },
      "execution_count": null,
      "outputs": []
    },
    {
      "cell_type": "code",
      "source": [
        "!cp /content/GCF_000931575.1_ASM93157v1_genomic.fna /content/GCF_000931575.1_ASM93157v1_genomic.fa\n",
        "!wget https://raw.githubusercontent.com/biopython/biopython/master/Doc/examples/ls_orchid.fasta"
      ],
      "metadata": {
        "id": "vrHfQQyG_iIk"
      },
      "execution_count": null,
      "outputs": []
    },
    {
      "cell_type": "markdown",
      "source": [
        "# **Montar gráfico de GCs**\n",
        "Executar com a ordenação das probabilidades de GC's e sem a ordenação"
      ],
      "metadata": {
        "id": "W2QwLq5INgof"
      }
    },
    {
      "cell_type": "code",
      "source": [
        "import pylab\n",
        "from Bio import SeqIO\n",
        "from Bio.SeqUtils import GC\n",
        "# Mostrar como fazer um gráfico utilizando o arquivo ls_orchid.fasta que possui 94 genomas de orquídeas\n",
        "gc_values = sorted(GC(rec.seq) for rec in SeqIO.parse(\"/content/ls_orchid.fasta\", \"fasta\"))\n",
        "print(gc_values)\n",
        "import pylab\n",
        "\n",
        "pylab.plot(gc_values)\n",
        "pylab.title(\n",
        "    \"%i orchid sequences\\nGC%% %0.1f to %0.1f\"\n",
        "    % (len(gc_values), min(gc_values), max(gc_values))\n",
        ")\n",
        "pylab.xlabel(\"Genes\")\n",
        "pylab.ylabel(\"GC%\")\n",
        "pylab.show()\n"
      ],
      "metadata": {
        "id": "oxvUMQjggu-c"
      },
      "execution_count": null,
      "outputs": []
    },
    {
      "cell_type": "code",
      "source": [
        "# Uma maneira de trabalhar com arquivos grandes é utilizar um handle.\n",
        "# Neste caso ele aponta para um arquivo do tipo fasta e é manipulado dentro \n",
        "# de um laço for. Os dados do arquivo são copiados para um tipo record\n",
        "#  \n",
        "handle = open(\"/content/GCF_000931575.1_ASM93157v1_genomic.fasta\", \"r\")\n",
        "for record in SeqIO.parse(handle, \"fasta\"):\n",
        "    print(record.name, len(record))\n",
        "handle.close()\n",
        "\n",
        "# Caso precise/queira trabalhar com os dados compactados utilize esse código\n",
        "\n",
        "#handle = gzip.open(\"/content/GCF_000931575.1_ASM93157v1_genomic.fna.gz\", \"rt\")\n",
        "#for record in SeqIO.parse(handle, \"fasta\"):\n",
        "#    print(record.id, len(record.seq))\n",
        "#    print(record.format)\n",
        "#handle.close()\n",
        "seq_size = len(record.seq)\n",
        "\n",
        "\n",
        "for base in my_seq_list:\n",
        "  print(\"%s -- Total: %s -- Probability: %5.4f \" % (base, record.seq.count(base), record.seq.count(base)/seq_size))\n",
        "\n",
        "print(\"GC content: -- \", (record.seq.count(\"C\")/seq_size+record.seq.count(\"G\")/seq_size))\n",
        "print(\"Count seq 'GTCA' : -- \", record.seq.count(\"GTCA\"))\n",
        "\n",
        "a = 10\n",
        "#a = int(len(record.seq)/20000)\n",
        "gc_values = []\n",
        "init = 0\n",
        "print(\"# bp: \", a)\n",
        "for i in range(a):\n",
        "  end = (i+1)*int(len(record.seq)/a)\n",
        "  gc_values.append(GC(record.seq[init:end]))\n",
        "  init = end + 1\n",
        "\n",
        "print(\"gc values :\", gc_values)\n",
        "\n",
        "\n",
        "# Aqui podemos gerar um gráfico com os valores ordenados ou não\n",
        "pylab.plot(sorted(gc_values))\n",
        "#pylab.plot(gc_values)\n",
        "pylab.title(\n",
        "    \"%i Genome sequences\\nGC%% %0.1f to %0.1f\"\n",
        "    % (len(gc_values), min(gc_values), max(gc_values))\n",
        ")\n",
        "pylab.xlabel(\"Genes\")\n",
        "pylab.ylabel(\"GC%\")\n",
        "pylab.show()"
      ],
      "metadata": {
        "id": "lgOez2hOKX2N"
      },
      "execution_count": null,
      "outputs": []
    },
    {
      "cell_type": "code",
      "source": [
        "\n",
        "#a = 100\n",
        "a = int(len(record.seq)/20000)\n",
        "gc_values = []\n",
        "at_values = []\n",
        "init = 0\n",
        "print(\"# bp: \", a)\n",
        "for i in range(a):\n",
        "  end = (i+1)*int(len(record.seq)/a)\n",
        "  gc_values.append(GC(record.seq[init:end]))\n",
        "  at_values.append(1.0-(GC(record.seq[init:end])))\n",
        "  init = end + 1\n",
        "\n",
        "pylab.plot(gc_values)\n",
        "pylab.plot(at_values)\n",
        "pylab.title(\n",
        "    \"%i Genome sequences\\nGC and AT%% %0.1f to %0.1f\"\n",
        "    % (len(gc_values), min(gc_values), max(gc_values))\n",
        ")\n",
        "pylab.xlabel(\"Genes\")\n",
        "pylab.ylabel(\"GC%\")\n",
        "pylab.show()"
      ],
      "metadata": {
        "collapsed": true,
        "id": "mAfogbwOPxOg"
      },
      "execution_count": null,
      "outputs": []
    }
  ]
}